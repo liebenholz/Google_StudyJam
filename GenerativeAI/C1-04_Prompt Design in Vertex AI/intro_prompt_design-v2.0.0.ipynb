{
 "cells": [
  {
   "cell_type": "code",
   "execution_count": null,
   "metadata": {
    "id": "ur8xi4C7S06n"
   },
   "outputs": [],
   "source": [
    "# Copyright 2024 Google LLC\n",
    "#\n",
    "# Licensed under the Apache License, Version 2.0 (the \"License\");\n",
    "# you may not use this file except in compliance with the License.\n",
    "# You may obtain a copy of the License at\n",
    "#\n",
    "#     https://www.apache.org/licenses/LICENSE-2.0\n",
    "#\n",
    "# Unless required by applicable law or agreed to in writing, software\n",
    "# distributed under the License is distributed on an \"AS IS\" BASIS,\n",
    "# WITHOUT WARRANTIES OR CONDITIONS OF ANY KIND, either express or implied.\n",
    "# See the License for the specific language governing permissions and\n",
    "# limitations under the License."
   ]
  },
  {
   "cell_type": "markdown",
   "metadata": {
    "id": "JAPoU8Sm5E6e"
   },
   "source": [
    "# Prompt Design - Best Practices\n",
    "\n",
    "<table align=\"left\">\n",
    "  <td style=\"text-align: center\">\n",
    "    <a href=\"https://colab.research.google.com/github/GoogleCloudPlatform/generative-ai/blob/main/gemini/prompts/intro_prompt_design.ipynb\">\n",
    "      <img src=\"https://cloud.google.com/ml-engine/images/colab-logo-32px.png\" alt=\"Google Colaboratory logo\"><br> Open in Colab\n",
    "    </a>\n",
    "  </td>\n",
    "  <td style=\"text-align: center\">\n",
    "    <a href=\"https://console.cloud.google.com/vertex-ai/colab/import/https:%2F%2Fraw.githubusercontent.com%2FGoogleCloudPlatform%2Fgenerative-ai%2Fmain%2Fgemini%2Fprompts%2Fintro_prompt_design.ipynb\">\n",
    "      <img width=\"32px\" src=\"https://lh3.googleusercontent.com/JmcxdQi-qOpctIvWKgPtrzZdJJK-J3sWE1RsfjZNwshCFgE_9fULcNpuXYTilIR2hjwN\" alt=\"Google Cloud Colab Enterprise logo\"><br> Open in Colab Enterprise\n",
    "    </a>\n",
    "  </td>    \n",
    "  <td style=\"text-align: center\">\n",
    "    <a href=\"https://console.cloud.google.com/vertex-ai/workbench/deploy-notebook?download_url=https://raw.githubusercontent.com/GoogleCloudPlatform/generative-ai/main/gemini/prompts/intro_prompt_design.ipynb\">\n",
    "      <img src=\"https://lh3.googleusercontent.com/UiNooY4LUgW_oTvpsNhPpQzsstV5W8F7rYgxgGBD85cWJoLmrOzhVs_ksK_vgx40SHs7jCqkTkCk=e14-rj-sc0xffffff-h130-w32\" alt=\"Vertex AI logo\"><br> Open in Workbench\n",
    "    </a>\n",
    "  </td>\n",
    "  <td style=\"text-align: center\">\n",
    "    <a href=\"https://github.com/GoogleCloudPlatform/generative-ai/blob/main/gemini/prompts/intro_prompt_design.ipynb\">\n",
    "      <img src=\"https://cloud.google.com/ml-engine/images/github-logo-32px.png\" alt=\"GitHub logo\"><br> View on GitHub\n",
    "    </a>\n",
    "  </td>\n",
    "  <td style=\"text-align: center\">\n",
    "    <a href=\"https://goo.gle/4fWHlze\">\n",
    "      <img width=\"32px\" src=\"https://cdn.qwiklabs.com/assets/gcp_cloud-e3a77215f0b8bfa9b3f611c0d2208c7e8708ed31.svg\" alt=\"Google Cloud logo\"><br> Open in  Cloud Skills Boost\n",
    "    </a>\n",
    "  </td>\n",
    "</table>\n",
    "\n",
    "<div style=\"clear: both;\"></div>\n",
    "\n",
    "<b>Share to:</b>\n",
    "\n",
    "<a href=\"https://www.linkedin.com/sharing/share-offsite/?url=https%3A//github.com/GoogleCloudPlatform/generative-ai/blob/main/gemini/prompts/intro_prompt_design.ipynb\" target=\"_blank\">\n",
    "  <img width=\"20px\" src=\"https://upload.wikimedia.org/wikipedia/commons/8/81/LinkedIn_icon.svg\" alt=\"LinkedIn logo\">\n",
    "</a>\n",
    "\n",
    "<a href=\"https://bsky.app/intent/compose?text=https%3A//github.com/GoogleCloudPlatform/generative-ai/blob/main/gemini/prompts/intro_prompt_design.ipynb\" target=\"_blank\">\n",
    "  <img width=\"20px\" src=\"https://upload.wikimedia.org/wikipedia/commons/7/7a/Bluesky_Logo.svg\" alt=\"Bluesky logo\">\n",
    "</a>\n",
    "\n",
    "<a href=\"https://twitter.com/intent/tweet?url=https%3A//github.com/GoogleCloudPlatform/generative-ai/blob/main/gemini/prompts/intro_prompt_design.ipynb\" target=\"_blank\">\n",
    "  <img width=\"20px\" src=\"https://upload.wikimedia.org/wikipedia/commons/5/53/X_logo_2023_original.svg\" alt=\"X logo\">\n",
    "</a>\n",
    "\n",
    "<a href=\"https://reddit.com/submit?url=https%3A//github.com/GoogleCloudPlatform/generative-ai/blob/main/gemini/prompts/intro_prompt_design.ipynb\" target=\"_blank\">\n",
    "  <img width=\"20px\" src=\"https://redditinc.com/hubfs/Reddit%20Inc/Brand/Reddit_Logo.png\" alt=\"Reddit logo\">\n",
    "</a>\n",
    "\n",
    "<a href=\"https://www.facebook.com/sharer/sharer.php?u=https%3A//github.com/GoogleCloudPlatform/generative-ai/blob/main/gemini/prompts/intro_prompt_design.ipynb\" target=\"_blank\">\n",
    "  <img width=\"20px\" src=\"https://upload.wikimedia.org/wikipedia/commons/5/51/Facebook_f_logo_%282019%29.svg\" alt=\"Facebook logo\">\n",
    "</a>            "
   ]
  },
  {
   "cell_type": "markdown",
   "metadata": {
    "id": "84f0f73a0f76"
   },
   "source": [
    "| | |\n",
    "|-|-|\n",
    "|Author(s) | [Polong Lin](https://github.com/polong-lin), [Karl Weinmeister](https://github.com/kweinmeister) |"
   ]
  },
  {
   "cell_type": "markdown",
   "metadata": {
    "id": "tvgnzT1CKxrO"
   },
   "source": [
    "## Overview\n",
    "\n",
    "This notebook covers the essentials of prompt engineering, including some best practices.\n",
    "\n",
    "Learn more about prompt design in the [official documentation](https://cloud.google.com/vertex-ai/docs/generative-ai/text/text-overview).\n",
    "\n",
    "In this notebook, you learn best practices around prompt engineering -- how to design prompts to improve the quality of your responses.\n",
    "\n",
    "This notebook covers the following best practices for prompt engineering:\n",
    "\n",
    "- Be concise\n",
    "- Be specific and well-defined\n",
    "- Ask one task at a time\n",
    "- Turn generative tasks into classification tasks\n",
    "- Improve response quality by including examples"
   ]
  },
  {
   "cell_type": "markdown",
   "metadata": {
    "id": "61RBz8LLbxCR"
   },
   "source": [
    "## Getting Started"
   ]
  },
  {
   "cell_type": "markdown",
   "metadata": {
    "id": "No17Cw5hgx12"
   },
   "source": [
    "### Install Google Gen AI SDK\n"
   ]
  },
  {
   "cell_type": "code",
   "execution_count": 1,
   "metadata": {
    "id": "tFy3H3aPgx12",
    "tags": []
   },
   "outputs": [
    {
     "name": "stdout",
     "output_type": "stream",
     "text": [
      "\n",
      "\u001b[1m[\u001b[0m\u001b[34;49mnotice\u001b[0m\u001b[1;39;49m]\u001b[0m\u001b[39;49m A new release of pip is available: \u001b[0m\u001b[31;49m25.0\u001b[0m\u001b[39;49m -> \u001b[0m\u001b[32;49m25.0.1\u001b[0m\n",
      "\u001b[1m[\u001b[0m\u001b[34;49mnotice\u001b[0m\u001b[1;39;49m]\u001b[0m\u001b[39;49m To update, run: \u001b[0m\u001b[32;49mpip install --upgrade pip\u001b[0m\n",
      "Note: you may need to restart the kernel to use updated packages.\n"
     ]
    }
   ],
   "source": [
    "%pip install --upgrade --quiet google-genai"
   ]
  },
  {
   "cell_type": "markdown",
   "metadata": {
    "id": "R5Xep4W9lq-Z"
   },
   "source": [
    "### Restart runtime\n",
    "\n",
    "To use the newly installed packages in this Jupyter runtime, you must restart the runtime. You can do this by running the cell below, which will restart the current kernel."
   ]
  },
  {
   "cell_type": "code",
   "execution_count": 2,
   "metadata": {
    "id": "XRvKdaPDTznN",
    "tags": []
   },
   "outputs": [
    {
     "data": {
      "text/plain": [
       "{'status': 'ok', 'restart': True}"
      ]
     },
     "execution_count": 2,
     "metadata": {},
     "output_type": "execute_result"
    }
   ],
   "source": [
    "import IPython\n",
    "\n",
    "app = IPython.Application.instance()\n",
    "app.kernel.do_shutdown(True)"
   ]
  },
  {
   "cell_type": "markdown",
   "metadata": {
    "id": "SbmM4z7FOBpM"
   },
   "source": [
    "<div class=\"alert alert-block alert-warning\">\n",
    "<b>⚠️ The kernel is going to restart. Please wait until it is finished before continuing to the next step. ⚠️</b>\n",
    "</div>\n"
   ]
  },
  {
   "cell_type": "markdown",
   "metadata": {
    "id": "dmWOrTJ3gx13"
   },
   "source": [
    "### Authenticate your notebook environment (Colab only)\n",
    "\n",
    "Authenticate your environment on Google Colab.\n"
   ]
  },
  {
   "cell_type": "code",
   "execution_count": 1,
   "metadata": {
    "id": "NyKGtVQjgx13",
    "tags": []
   },
   "outputs": [],
   "source": [
    "import sys\n",
    "\n",
    "if \"google.colab\" in sys.modules:\n",
    "    from google.colab import auth\n",
    "\n",
    "    auth.authenticate_user()"
   ]
  },
  {
   "cell_type": "markdown",
   "metadata": {
    "id": "06489bd14f16"
   },
   "source": [
    "### Import libraries\n"
   ]
  },
  {
   "cell_type": "code",
   "execution_count": 2,
   "metadata": {
    "id": "154137022fb6",
    "tags": []
   },
   "outputs": [],
   "source": [
    "from IPython.display import Markdown, display\n",
    "from google import genai\n",
    "from google.genai.types import GenerateContentConfig"
   ]
  },
  {
   "cell_type": "markdown",
   "metadata": {
    "id": "DF4l8DTdWgPY"
   },
   "source": [
    "### Set Google Cloud project information and create client\n",
    "\n",
    "To get started using Vertex AI, you must have an existing Google Cloud project and [enable the Vertex AI API](https://console.cloud.google.com/flows/enableapi?apiid=aiplatform.googleapis.com).\n",
    "\n",
    "Learn more about [setting up a project and a development environment](https://cloud.google.com/vertex-ai/docs/start/cloud-environment)."
   ]
  },
  {
   "cell_type": "code",
   "execution_count": null,
   "metadata": {
    "id": "Nqwi-5ufWp_B",
    "tags": []
   },
   "outputs": [],
   "source": [
    "import os\n",
    "\n",
    "PROJECT_ID = \"[YOUR_PROJECT_ID]\"  # @param {type: \"string\", placeholder: \"[your-project-id]\", isTemplate: true}\n",
    "if not PROJECT_ID or PROJECT_ID == \"[YOUR_PROJECT_ID]\":\n",
    "    PROJECT_ID = str(os.environ.get(\"GOOGLE_CLOUD_PROJECT\"))\n",
    "\n",
    "LOCATION = os.environ.get(\"GOOGLE_CLOUD_REGION\", \"us-central1\")"
   ]
  },
  {
   "cell_type": "code",
   "execution_count": 4,
   "metadata": {
    "id": "QqRWdPGmW3NJ",
    "tags": []
   },
   "outputs": [],
   "source": [
    "client = genai.Client(vertexai=True, project=PROJECT_ID, location=LOCATION)"
   ]
  },
  {
   "cell_type": "markdown",
   "metadata": {
    "id": "OnFPpCRtXRl4"
   },
   "source": [
    "### Load model\n",
    "\n",
    "Learn more about all [Gemini models on Vertex AI](https://cloud.google.com/vertex-ai/generative-ai/docs/learn/models#gemini-models)."
   ]
  },
  {
   "cell_type": "code",
   "execution_count": 6,
   "metadata": {
    "id": "IQYu_9SvXQah",
    "tags": []
   },
   "outputs": [],
   "source": [
    "MODEL_ID = \"gemini-2.0-flash-001\"  # @param {type: \"string\"}"
   ]
  },
  {
   "cell_type": "markdown",
   "metadata": {
    "id": "cVOtUNJ5X0PY"
   },
   "source": [
    "## Prompt engineering best practices"
   ]
  },
  {
   "cell_type": "markdown",
   "metadata": {
    "id": "uv_e0fEPX60q"
   },
   "source": [
    "Prompt engineering is all about how to design your prompts so that the response is what you were indeed hoping to see.\n",
    "\n",
    "The idea of using \"unfancy\" prompts is to minimize the noise in your prompt to reduce the possibility of the LLM misinterpreting the intent of the prompt. Below are a few guidelines on how to engineer \"unfancy\" prompts.\n",
    "\n",
    "In this section, you'll cover the following best practices when engineering prompts:\n",
    "\n",
    "* Be concise\n",
    "* Be specific, and well-defined\n",
    "* Ask one task at a time\n",
    "* Improve response quality by including examples\n",
    "* Turn generative tasks to classification tasks to improve safety"
   ]
  },
  {
   "cell_type": "markdown",
   "metadata": {
    "id": "0pY4XX0OX9_Y"
   },
   "source": [
    "### Be concise"
   ]
  },
  {
   "cell_type": "markdown",
   "metadata": {
    "id": "xlRpxyxGYA1K"
   },
   "source": [
    "🛑 Not recommended. The prompt below is unnecessarily verbose."
   ]
  },
  {
   "cell_type": "code",
   "execution_count": 7,
   "metadata": {
    "id": "YKV4G-CfXdbi",
    "tags": []
   },
   "outputs": [
    {
     "data": {
      "text/markdown": [
       "Here are some name ideas for a dried flower shop, playing with different angles:\n",
       "\n",
       "**Emphasizing Dried/Preserved:**\n",
       "\n",
       "*   The Dried Petal\n",
       "*   Forever Blooms\n",
       "*   Timeless Florals\n",
       "*   Everlasting Arrangements\n",
       "*   Preserved Petals\n",
       "*   The Dried Stem\n",
       "*   The Keepsake Bouquet\n",
       "*   Lasting Lily\n",
       "*   The Eternal Garden\n",
       "*   Vintage Bloom\n",
       "\n",
       "**Highlighting Beauty & Craftsmanship:**\n",
       "\n",
       "*   The Dusty Rose Atelier\n",
       "*   Amber Flora\n",
       "*   Golden Thistle\n",
       "*   Whisper & Bloom\n",
       "*   Faded Florals\n",
       "*   The Petal Alchemist\n",
       "*   Ethereal Blooms\n",
       "*   The Still Life Florist\n",
       "*   Botanical Echoes\n",
       "\n",
       "**Descriptive & Evocative:**\n",
       "\n",
       "*   The Dried Flower Company\n",
       "*   Willow & Wheat\n",
       "*   Lavender & Lace\n",
       "*   Rustic Blooms\n",
       "*   Sunbaked Petals\n",
       "*   Earth & Bloom\n",
       "*   The Natural Bouquet\n",
       "*   Bohemian Botanicals\n",
       "\n",
       "**Modern & Minimalist:**\n",
       "\n",
       "*   Dry Goods\n",
       "*   Bloom Haus\n",
       "*   The Floral Archive\n",
       "*   Petal Collective\n",
       "*   Dried\n",
       "*   Vase Life\n",
       "\n",
       "**Unique & Playful:**\n",
       "\n",
       "*   Dead Flowers Society (edgy, but could work)\n",
       "*   The Botany of Now & Then\n",
       "*   The Flower Time Forgot\n",
       "*   Bloom Again\n",
       "*   Petals & Prose\n",
       "\n",
       "**Tips for Choosing:**\n",
       "\n",
       "*   **Consider your target audience:** Are you aiming for a modern, minimalist crowd, or a more vintage, romantic one?\n",
       "*   **Check for availability:** Make sure the name and a corresponding website domain name are available.\n",
       "*   **Say it out loud:** Does it roll off the tongue? Is it easy to remember?\n",
       "*   **Get feedback:** Ask friends and family what they think of your top choices.\n",
       "*   **Brand Consistency:** Think about how the name translates visually - logo, packaging, store decor.\n",
       "\n",
       "Ultimately, the best name will be one that reflects your unique brand and resonates with your customers. Good luck!\n"
      ],
      "text/plain": [
       "<IPython.core.display.Markdown object>"
      ]
     },
     "metadata": {},
     "output_type": "display_data"
    }
   ],
   "source": [
    "prompt = \"What do you think could be a good name for a flower shop that specializes in selling bouquets of dried flowers more than fresh flowers?\"\n",
    "\n",
    "response = client.models.generate_content(model=MODEL_ID, contents=prompt)\n",
    "display(Markdown(response.text))"
   ]
  },
  {
   "cell_type": "markdown",
   "metadata": {
    "id": "YrJexRHJYnmC"
   },
   "source": [
    "✅ Recommended. The prompt below is to the point and concise."
   ]
  },
  {
   "cell_type": "code",
   "execution_count": 8,
   "metadata": {
    "id": "VHetn9lCYrXB",
    "tags": []
   },
   "outputs": [
    {
     "data": {
      "text/markdown": [
       "Okay, here are some name suggestions for a dried flower shop, playing with different angles like:\n",
       "\n",
       "**Classic & Elegant:**\n",
       "\n",
       "*   The Everlasting Bloom\n",
       "*   Dried & Dusted\n",
       "*   Petrified Petals\n",
       "*   The Preserved Petal\n",
       "*   Eternal Flora\n",
       "*   Willow & Wisp (evokes rustic elegance)\n",
       "*   The Golden Stalk\n",
       "\n",
       "**Modern & Chic:**\n",
       "\n",
       "*   Still Life Stems\n",
       "*   Dried Goods\n",
       "*   The Dried Bouquet Bar\n",
       "*   Dust & Bloom\n",
       "*   Fossil Flora\n",
       "*   The Dried Flower Studio\n",
       "*   Relic Blooms\n",
       "\n",
       "**Rustic & Natural:**\n",
       "\n",
       "*   The Wildflower Wreath\n",
       "*   Prairie Petals\n",
       "*   Sunbaked Stems\n",
       "*   Field & Floret\n",
       "*   The Rustic Bloom\n",
       "*   The Dried Herbarium\n",
       "*   Whispering Wheat\n",
       "\n",
       "**Playful & Creative:**\n",
       "\n",
       "*   The Posy Post\n",
       "*   Bloom Box\n",
       "*   The Dried Flower Den\n",
       "*   Pressed & Perfect\n",
       "*   Second Bloom\n",
       "*   Dusty Daisies\n",
       "*   The Thistle & Twig\n",
       "\n",
       "**Location Specific (If Applicable):**\n",
       "\n",
       "*   [Your Town/Region] Dried Flowers\n",
       "*   The [Street Name] Stems\n",
       "\n",
       "**Tips for Choosing:**\n",
       "\n",
       "*   **Availability:** Check if the name (and a matching domain name) is available.\n",
       "*   **Target Audience:** Consider who you're trying to attract.  A modern shop might want a more streamlined name than a rustic one.\n",
       "*   **Memorability:**  Is it easy to say and remember?\n",
       "*   **Brand Image:** Does the name fit the overall aesthetic of your shop?\n",
       "*   **Unique Selling Proposition:** Does the name hint at what makes your shop special (e.g., specific flower types, a particular style)?\n",
       "\n",
       "To help me narrow it down and give even better suggestions, tell me:\n",
       "\n",
       "*   **What is the overall style/aesthetic of your shop (e.g., modern, rustic, bohemian, elegant)?**\n",
       "*   **Do you have a particular type of dried flower that you specialize in?**\n",
       "*   **What is your target audience (e.g., younger, more modern customers, or older, more traditional ones)?**\n",
       "*   **Where is your shop located (e.g., in a rural area, a busy city, a coastal town)?**\n",
       "\n",
       "Good luck!\n"
      ],
      "text/plain": [
       "<IPython.core.display.Markdown object>"
      ]
     },
     "metadata": {},
     "output_type": "display_data"
    }
   ],
   "source": [
    "prompt = \"Suggest a name for a flower shop that sells bouquets of dried flowers\"\n",
    "\n",
    "response = client.models.generate_content(model=MODEL_ID, contents=prompt)\n",
    "display(Markdown(response.text))"
   ]
  },
  {
   "cell_type": "markdown",
   "metadata": {
    "id": "eXTAvdOHY0OC"
   },
   "source": [
    "### Be specific, and well-defined"
   ]
  },
  {
   "cell_type": "markdown",
   "metadata": {
    "id": "FTH4GEIgY1dp"
   },
   "source": [
    "Suppose that you want to brainstorm creative ways to describe Earth."
   ]
  },
  {
   "cell_type": "markdown",
   "metadata": {
    "id": "o5BmXBiGY4KC"
   },
   "source": [
    "🛑 The prompt below might be a bit too generic (which is certainly OK if you'd like to ask a generic question!)"
   ]
  },
  {
   "cell_type": "code",
   "execution_count": 9,
   "metadata": {
    "id": "eHBaMvv7Y6mR",
    "tags": []
   },
   "outputs": [
    {
     "data": {
      "text/markdown": [
       "Alright, let's talk about Earth! Here's a breakdown of what makes our planet so special and interesting:\n",
       "\n",
       "**Basic Facts:**\n",
       "\n",
       "*   **Name:** Earth (also known as Terra)\n",
       "*   **Position in Solar System:** Third planet from the Sun\n",
       "*   **Type:** Terrestrial planet (rocky)\n",
       "*   **Diameter:** Approximately 12,742 kilometers (7,918 miles)\n",
       "*   **Mass:** About 5.97 x 10^24 kilograms\n",
       "*   **Orbit around Sun:** Roughly 365.25 days (hence the need for leap years)\n",
       "*   **Rotation on Axis:** Approximately 24 hours (defines our day)\n",
       "*   **Atmosphere:** Primarily nitrogen (about 78%) and oxygen (about 21%), with trace amounts of other gases like argon, carbon dioxide, and water vapor.\n",
       "*   **Surface:** About 71% water (oceans, seas, lakes, rivers), 29% land (continents, islands).\n",
       "*   **Moons:** One natural satellite, the Moon (Luna).\n",
       "*   **Rings:** None\n",
       "\n",
       "**Key Features and Characteristics:**\n",
       "\n",
       "*   **Habitability:** Earth is currently the only known planet in the universe confirmed to support life. This is due to a combination of factors:\n",
       "    *   **Distance from the Sun:**  Far enough to avoid being too hot like Mercury or Venus, but close enough to receive sufficient energy.\n",
       "    *   **Liquid Water:**  A crucial ingredient for life as we know it. Earth's temperature allows water to exist in its liquid state.\n",
       "    *   **Protective Atmosphere:** Shields the surface from harmful radiation from the sun and helps regulate temperature. The ozone layer within the stratosphere absorbs most of the sun's ultraviolet radiation.\n",
       "    *   **Magnetic Field:** Generated by the Earth's core, which deflects most of the solar wind, which would otherwise strip away the atmosphere.\n",
       "\n",
       "*   **Geology:**\n",
       "    *   **Structure:** Earth has a layered structure:\n",
       "        *   **Crust:** The outermost solid layer, relatively thin (oceanic crust is thinner than continental crust).\n",
       "        *   **Mantle:** A thick, mostly solid layer beneath the crust. The uppermost part of the mantle and the crust together form the lithosphere, which is broken into tectonic plates.\n",
       "        *   **Outer Core:** A liquid layer made mostly of iron and nickel.\n",
       "        *   **Inner Core:** A solid sphere of iron and nickel, under immense pressure.\n",
       "    *   **Plate Tectonics:** The Earth's lithosphere is divided into tectonic plates that move and interact. This movement causes:\n",
       "        *   **Earthquakes:** Sudden releases of energy along fault lines where plates meet.\n",
       "        *   **Volcanoes:** Occur where magma from the mantle erupts onto the surface.\n",
       "        *   **Mountain Formation:**  Created by the collision and uplift of tectonic plates.\n",
       "        *   **Continental Drift:** The gradual movement of continents over geological time.\n",
       "\n",
       "*   **Hydrosphere:**\n",
       "    *   **Oceans:**  Vast bodies of saltwater that cover most of the Earth's surface.  They play a crucial role in regulating climate, absorbing carbon dioxide, and supporting marine life.\n",
       "    *   **Freshwater:** Found in lakes, rivers, glaciers, and groundwater.  Essential for human consumption, agriculture, and ecosystems.\n",
       "    *   **Cryosphere:**  The frozen parts of the Earth, including glaciers, ice sheets, sea ice, and permafrost.  Important for reflecting sunlight and regulating global temperatures.\n",
       "\n",
       "*   **Atmosphere:**\n",
       "    *   **Layers:**  The Earth's atmosphere is divided into several layers:\n",
       "        *   **Troposphere:** The lowest layer, where weather occurs.\n",
       "        *   **Stratosphere:** Contains the ozone layer.\n",
       "        *   **Mesosphere:**\n",
       "        *   **Thermosphere:**\n",
       "        *   **Exosphere:** The outermost layer, gradually fading into space.\n",
       "    *   **Weather and Climate:**  Driven by the interaction of the atmosphere, oceans, and land.  Climate is the long-term average of weather patterns in a region.\n",
       "    *   **Greenhouse Effect:**  The trapping of heat by certain gases in the atmosphere (like carbon dioxide and methane). This is a natural process that keeps the Earth warm enough to support life, but human activities are increasing the concentration of these gases, leading to climate change.\n",
       "\n",
       "*   **Biosphere:**\n",
       "    *   **Life:**  Earth is home to an incredible diversity of life, from microscopic bacteria to giant whales.\n",
       "    *   **Ecosystems:**  Complex communities of organisms interacting with each other and their environment.\n",
       "    *   **Biodiversity:**  The variety of life in a particular habitat or ecosystem.\n",
       "\n",
       "**Interesting Facts:**\n",
       "\n",
       "*   Earth is not perfectly spherical; it's an oblate spheroid, bulging slightly at the equator due to its rotation.\n",
       "*   Earth's rotation is gradually slowing down, very slightly.\n",
       "*   The highest point on Earth is Mount Everest, and the deepest point is the Mariana Trench.\n",
       "*   Earth's magnetic poles are not fixed and can move over time.\n",
       "*   The Earth is estimated to be about 4.54 billion years old.\n",
       "\n",
       "**Human Impact:**\n",
       "\n",
       "*   Human activities have a significant impact on the Earth's environment, including:\n",
       "    *   **Climate Change:**  Burning fossil fuels releases greenhouse gases, leading to global warming and altered weather patterns.\n",
       "    *   **Deforestation:**  Clearing forests reduces biodiversity, disrupts ecosystems, and contributes to climate change.\n",
       "    *   **Pollution:**  Contamination of air, water, and soil with harmful substances.\n",
       "    *   **Resource Depletion:**  Overuse of natural resources like water, minerals, and fossil fuels.\n",
       "\n",
       "Let me know if you'd like more detail on any of these topics. For example, are you interested in learning more about:\n",
       "\n",
       "*   Plate tectonics?\n",
       "*   The Earth's atmosphere?\n",
       "*   Climate change?\n",
       "*   The history of life on Earth?\n",
       "*   Earth's place in the universe?\n"
      ],
      "text/plain": [
       "<IPython.core.display.Markdown object>"
      ]
     },
     "metadata": {},
     "output_type": "display_data"
    }
   ],
   "source": [
    "prompt = \"Tell me about Earth\"\n",
    "\n",
    "response = client.models.generate_content(model=MODEL_ID, contents=prompt)\n",
    "display(Markdown(response.text))"
   ]
  },
  {
   "cell_type": "markdown",
   "metadata": {
    "id": "4iyvEbteZnFL"
   },
   "source": [
    "✅ Recommended. The prompt below is specific and well-defined."
   ]
  },
  {
   "cell_type": "code",
   "execution_count": 10,
   "metadata": {
    "id": "JQ80z8urZnne",
    "tags": []
   },
   "outputs": [
    {
     "data": {
      "text/markdown": [
       "Okay, here's a list of things that make Earth unique compared to other planets we know of, focusing on what sets it apart significantly:\n",
       "\n",
       "**Core Factors for Life and Habitability:**\n",
       "\n",
       "*   **Liquid Water on the Surface:** This is arguably the biggest factor. Earth has a significant amount of liquid water covering approximately 71% of its surface. Liquid water is essential for all known life.  While other bodies may have subsurface water or ice, Earth's surface oceans are unique.\n",
       "*   **Oxygen-Rich Atmosphere:** Earth's atmosphere is about 21% oxygen, a highly reactive gas that is largely produced and maintained by photosynthetic life.  This is extremely unusual. Most planetary atmospheres are dominated by carbon dioxide, nitrogen, or hydrogen/helium.\n",
       "*   **Plate Tectonics:** Earth is the only known planet with active plate tectonics. This process recycles elements, regulates temperature, and creates diverse geological features. While some evidence suggests past or limited tectonic activity on other bodies, Earth's continuous, global system is unique.\n",
       "*   **Relatively Stable Climate:** While Earth's climate fluctuates naturally, it has remained within a range suitable for liquid water and life for billions of years. This stability is due to a complex interplay of factors, including the atmosphere, oceans, and plate tectonics.\n",
       "*   **Strong Magnetic Field:** Generated by the Earth's molten iron core, the magnetic field deflects harmful solar wind and cosmic radiation, protecting the atmosphere and surface life. While some other planets have magnetic fields, Earth's is relatively strong and stable.\n",
       "\n",
       "**Factors Related to Geological Activity and Composition:**\n",
       "\n",
       "*   **Abundant Life and Biodiversity:** Earth is the only planet known to harbor life. Furthermore, it has an incredible diversity of life forms, from microscopic bacteria to giant whales. This biodiversity has shaped the planet's atmosphere, geology, and climate.\n",
       "*   **Complex Ecosystems:** The interaction between living organisms and their environment has created complex ecosystems that cycle nutrients, regulate populations, and provide essential services. These ecosystems are unique to Earth.\n",
       "*   **Ozone Layer:** A layer in the stratosphere that absorbs most of the Sun's harmful ultraviolet (UV) radiation. This layer is crucial for protecting life on land and in the oceans.  It's formed by the interaction of oxygen with UV radiation, so it's a direct consequence of the oxygen-rich atmosphere.\n",
       "*   **Presence of a Large Moon (Relatively Speaking):** Earth's moon is unusually large compared to the planet's size. It stabilizes Earth's axial tilt, which contributes to climate stability and tides which may have helped life get started.\n",
       "*   **Geological Diversity:** Earth has a wide range of geological features, including mountains, volcanoes, canyons, plains, and oceans. This diversity is a result of the planet's active geology, plate tectonics, and erosion.\n",
       "\n",
       "**Factors Related to Human Influence:**\n",
       "\n",
       "*   **Technological Civilization:**  Earth is the only known planet with a technological civilization capable of altering its environment on a global scale. Human activities are having a significant impact on the planet's climate, biodiversity, and resources.\n",
       "*   **Artificial Structures and Modification:** Obvious things like cities, roads, dams, agricultural land, and other structures built by humans are completely unique.\n",
       "\n",
       "**Important Considerations:**\n",
       "\n",
       "*   **Limited Sample Size:** Our knowledge of other planets is still limited. We've only closely examined a small fraction of the planets in our solar system, and even fewer exoplanets. As we explore further, we may discover other planets with some of these characteristics.\n",
       "*   **Evolutionary Nature:** Earth's uniqueness is not static. The planet has evolved over billions of years, and its characteristics have changed significantly. Life has been a major driving force in this evolution.\n",
       "*   **Interconnectedness:** All of these factors are interconnected. The presence of liquid water, an oxygen-rich atmosphere, plate tectonics, and a stable climate are all essential for life as we know it.\n",
       "\n",
       "This list provides a comprehensive overview of the factors that make Earth unique. As our understanding of the universe expands, we may discover new factors that further distinguish our planet from others.\n"
      ],
      "text/plain": [
       "<IPython.core.display.Markdown object>"
      ]
     },
     "metadata": {},
     "output_type": "display_data"
    }
   ],
   "source": [
    "prompt = \"Generate a list of ways that makes Earth unique compared to other planets\"\n",
    "\n",
    "response = client.models.generate_content(model=MODEL_ID, contents=prompt)\n",
    "display(Markdown(response.text))"
   ]
  },
  {
   "cell_type": "markdown",
   "metadata": {
    "id": "R5kmfZYHZsJ7"
   },
   "source": [
    "### Ask one task at a time"
   ]
  },
  {
   "cell_type": "markdown",
   "metadata": {
    "id": "rsAezxeYZuUN"
   },
   "source": [
    "🛑 Not recommended. The prompt below has two parts to the question that could be asked separately."
   ]
  },
  {
   "cell_type": "code",
   "execution_count": 11,
   "metadata": {
    "id": "ElywPXpuZtWf",
    "tags": []
   },
   "outputs": [
    {
     "data": {
      "text/markdown": [
       "Let's tackle these two questions separately:\n",
       "\n",
       "**Best Method of Boiling Water**\n",
       "\n",
       "The \"best\" method for boiling water depends on a few factors:\n",
       "\n",
       "*   **Speed:** How quickly do you need the water boiled?\n",
       "*   **Energy Efficiency:** How much energy are you willing to use?\n",
       "*   **Quantity:** How much water are you boiling?\n",
       "*   **Available Resources:** What appliances do you have available?\n",
       "\n",
       "Here's a breakdown of common methods:\n",
       "\n",
       "1.  **Electric Kettle:**\n",
       "\n",
       "    *   **Speed:** Very fast. Typically the fastest method for boiling small to medium quantities of water (1-2 liters).\n",
       "    *   **Energy Efficiency:** Generally the most energy-efficient method for the amount of water you're boiling, as the heating element is directly immersed in the water.\n",
       "    *   **Convenience:** Highly convenient, often with automatic shut-off features.\n",
       "    *   **Drawbacks:** Limited quantity, requires electricity.\n",
       "\n",
       "2.  **Electric Stove (Coil or Smooth Top):**\n",
       "\n",
       "    *   **Speed:** Medium. Slower than an electric kettle, especially for larger amounts of water.\n",
       "    *   **Energy Efficiency:** Less efficient than an electric kettle because more energy is lost to heating the pot and the surrounding air.\n",
       "    *   **Convenience:** Less convenient than a kettle, requires watching the pot.\n",
       "    *   **Drawbacks:** Requires a suitable pot, slower, less energy efficient.\n",
       "\n",
       "3.  **Gas Stove:**\n",
       "\n",
       "    *   **Speed:** Medium. Can be faster than electric stoves, especially for larger pots.\n",
       "    *   **Energy Efficiency:** Less efficient than an electric kettle because heat is lost to the surrounding air.\n",
       "    *   **Convenience:** Requires a suitable pot, needs monitoring.\n",
       "    *   **Drawbacks:** Requires gas connection, open flame can be a safety concern, less energy efficient than an electric kettle.\n",
       "\n",
       "4.  **Microwave:**\n",
       "\n",
       "    *   **Speed:** Fast for small quantities (e.g., a single cup).\n",
       "    *   **Energy Efficiency:** Moderately efficient for small amounts, but can be less efficient than a kettle for larger volumes.\n",
       "    *   **Convenience:** Convenient for small amounts.\n",
       "    *   **Drawbacks:** Can heat unevenly (leading to potential superheating and eruptions), generally not recommended for large amounts of water or for making tea due to impact on taste.\n",
       "\n",
       "**In summary:** For most people, an **electric kettle** is the \"best\" option due to its combination of speed, energy efficiency, and convenience for boiling typical quantities of water. However, if you need to boil a large pot of water, a gas stove might be preferred.\n",
       "\n",
       "**Why is the sky blue?**\n",
       "\n",
       "The sky is blue due to a phenomenon called **Rayleigh scattering**. Here's the simplified explanation:\n",
       "\n",
       "1.  **Sunlight and the Atmosphere:** Sunlight, which appears white, is actually composed of all the colors of the rainbow. When sunlight enters the Earth's atmosphere, it collides with air molecules (mostly nitrogen and oxygen).\n",
       "\n",
       "2.  **Scattering of Light:** These collisions cause the light to scatter in different directions. This scattering is more effective for shorter wavelengths of light.\n",
       "\n",
       "3.  **Rayleigh Scattering:** Rayleigh scattering is the elastic scattering of electromagnetic radiation by particles of a much smaller wavelength. The intensity of Rayleigh scattering varies inversely with the fourth power of the wavelength. This means that shorter wavelengths (blue and violet) are scattered much more strongly than longer wavelengths (red and orange).\n",
       "\n",
       "4.  **Why Blue, Not Violet?** Violet light is scattered even more than blue light. However, the sun emits less violet light than blue light, and our eyes are also less sensitive to violet light. As a result, we perceive the sky as blue.\n",
       "\n",
       "5.  **Sunsets and Sunrises:** At sunrise and sunset, the sunlight has to travel through more of the atmosphere to reach our eyes. This means that more of the blue light is scattered away, leaving the longer wavelengths (reds and oranges) to dominate the sky. That's why sunsets and sunrises are often red or orange.\n"
      ],
      "text/plain": [
       "<IPython.core.display.Markdown object>"
      ]
     },
     "metadata": {},
     "output_type": "display_data"
    }
   ],
   "source": [
    "prompt = \"What's the best method of boiling water and why is the sky blue?\"\n",
    "\n",
    "response = client.models.generate_content(model=MODEL_ID, contents=prompt)\n",
    "display(Markdown(response.text))"
   ]
  },
  {
   "cell_type": "markdown",
   "metadata": {
    "id": "ejzahazBZ8vk"
   },
   "source": [
    "✅ Recommended. The prompts below asks one task a time."
   ]
  },
  {
   "cell_type": "code",
   "execution_count": 12,
   "metadata": {
    "id": "C5ckp2F0Z_Ba",
    "tags": []
   },
   "outputs": [
    {
     "data": {
      "text/markdown": [
       "The \"best\" method for boiling water depends on your priorities and the circumstances. Here's a breakdown of common methods and their pros and cons:\n",
       "\n",
       "**1. Electric Kettle:**\n",
       "\n",
       "*   **Pros:**\n",
       "    *   **Fast:** Typically boils water the quickest, especially in smaller quantities.\n",
       "    *   **Convenient:** Simple on/off switch, often with automatic shut-off.\n",
       "    *   **Energy Efficient:** Can be more efficient than a stovetop kettle because they heat only the water needed.\n",
       "    *   **Safe:** Often have features like automatic shut-off when boiling or when dry.\n",
       "    *   **Precise Temperature Control (some models):** Higher-end kettles offer precise temperature settings for different types of tea or coffee.\n",
       "*   **Cons:**\n",
       "    *   **Requires Electricity:** Need access to an electrical outlet.\n",
       "    *   **Can Be Noisy:** Some models can be quite loud while boiling.\n",
       "    *   **Capacity Limitations:** Usually have a fixed capacity, which may not be ideal for large volumes of water.\n",
       "\n",
       "**2. Stovetop Kettle (Gas or Electric Stove):**\n",
       "\n",
       "*   **Pros:**\n",
       "    *   **Reliable:** Works even during power outages (if you have a gas stove).\n",
       "    *   **Durable:** Can last for many years.\n",
       "    *   **Large Capacity (potentially):** Kettles can range in size, allowing you to boil large amounts of water.\n",
       "    *   **Whistling Kettle:** Provides an audible alert when the water is boiling.\n",
       "*   **Cons:**\n",
       "    *   **Slower Than Electric Kettle:** Generally takes longer to boil water compared to an electric kettle.\n",
       "    *   **Requires Supervision:** You need to monitor the kettle to prevent it from boiling dry and potentially causing damage or a fire.\n",
       "    *   **Less Energy Efficient:** Heat loss to the surrounding environment can be significant.\n",
       "    *   **Less Precise:** No temperature control (unless you use a thermometer).\n",
       "\n",
       "**3. Microwave Oven:**\n",
       "\n",
       "*   **Pros:**\n",
       "    *   **Fast (for small quantities):** Can be faster than a stovetop kettle for small amounts of water.\n",
       "    *   **Convenient:** Quick and easy to use.\n",
       "*   **Cons:**\n",
       "    *   **Uneven Heating:** Microwaves can heat water unevenly, leading to \"superheating\" (where the water is hotter than its boiling point but doesn't boil until disturbed, potentially causing a sudden and dangerous eruption).\n",
       "    *   **Not Recommended:** Generally not the safest or most efficient way to boil water.  Using a microwave-safe container is crucial.\n",
       "    *   **Can't Use Metal:** You cannot use metal containers in a microwave.\n",
       "\n",
       "**4. Campfire/Outdoor Stove:**\n",
       "\n",
       "*   **Pros:**\n",
       "    *   **Useful in the Outdoors:** Ideal for camping, hiking, or emergency situations.\n",
       "    *   **No Electricity Required:** Independent of electrical power.\n",
       "*   **Cons:**\n",
       "    *   **Slowest Method:** Boiling water over a fire or outdoor stove is the slowest method.\n",
       "    *   **Requires Supervision:** Fire safety is paramount.\n",
       "    *   **Can be Smoky:**  Campfires produce smoke, which can be unpleasant and potentially harmful.\n",
       "\n",
       "**Summary Table:**\n",
       "\n",
       "| Method          | Speed     | Convenience | Energy Efficiency | Safety   | Best For                                |\n",
       "| --------------- | --------- | ----------- | ----------------- | -------- | --------------------------------------- |\n",
       "| Electric Kettle | Fastest    | Very High   | High              | High     | Everyday use, small to medium quantities |\n",
       "| Stovetop Kettle | Medium    | Medium      | Medium             | Medium   | Larger quantities, power outages        |\n",
       "| Microwave       | Fast (small)| Medium      | Low               | Low      | Very small quantities, use with caution |\n",
       "| Campfire        | Slowest    | Low         | Very Low          | Low      | Outdoors, emergencies                    |\n",
       "\n",
       "**Therefore, for most everyday situations, an electric kettle is the \"best\" choice due to its speed, convenience, energy efficiency, and safety features.** However, the ideal method depends on your specific needs and circumstances.\n"
      ],
      "text/plain": [
       "<IPython.core.display.Markdown object>"
      ]
     },
     "metadata": {},
     "output_type": "display_data"
    }
   ],
   "source": [
    "prompt = \"What's the best method of boiling water?\"\n",
    "\n",
    "response = client.models.generate_content(model=MODEL_ID, contents=prompt)\n",
    "display(Markdown(response.text))"
   ]
  },
  {
   "cell_type": "code",
   "execution_count": 13,
   "metadata": {
    "id": "KwUzhud4aA89",
    "tags": []
   },
   "outputs": [
    {
     "data": {
      "text/markdown": [
       "The sky is blue due to a phenomenon called **Rayleigh scattering**. Here's a breakdown of why:\n",
       "\n",
       "*   **Sunlight and Its Colors:** Sunlight appears white, but it's actually made up of all the colors of the rainbow. Each color has a different wavelength. Red and orange have longer wavelengths, while blue and violet have shorter wavelengths.\n",
       "\n",
       "*   **The Atmosphere:** The Earth is surrounded by an atmosphere filled with gases and tiny particles, like nitrogen and oxygen molecules.\n",
       "\n",
       "*   **Rayleigh Scattering:** When sunlight enters the atmosphere, it collides with these tiny particles. This collision causes the light to scatter in different directions.\n",
       "\n",
       "*   **Shorter Wavelengths Scatter More:** Rayleigh scattering is much more effective at scattering shorter wavelengths of light (blue and violet) than longer wavelengths (red and orange). This is because the size of the air molecules is much smaller than the wavelength of light.\n",
       "\n",
       "*   **Why Blue, Not Violet?** Violet is scattered even more than blue. However, our eyes are more sensitive to blue light, and the sun emits slightly less violet light. Additionally, the upper atmosphere absorbs some of the violet light. This combination of factors makes the sky appear blue to us.\n",
       "\n",
       "**In simpler terms:**\n",
       "\n",
       "Imagine throwing different sized balls (colors of light) at a bunch of small obstacles (air molecules). The smaller balls (blue light) will bounce off more wildly in all directions than the larger balls (red light), which tend to go straight through. Because the blue light is scattered so much, it reaches our eyes from all directions, making the sky appear blue.\n",
       "\n",
       "**Important Considerations:**\n",
       "\n",
       "*   **Sunrise and Sunset:** At sunrise and sunset, the sunlight has to travel through more of the atmosphere to reach our eyes. This means that most of the blue light has already been scattered away, leaving the longer wavelengths like orange and red to dominate, creating the beautiful colors we see.\n",
       "\n",
       "*   **Other Planets:** The color of the sky on other planets depends on their atmosphere. For example, Mars has a thin atmosphere with dust particles, so its sky appears reddish.\n"
      ],
      "text/plain": [
       "<IPython.core.display.Markdown object>"
      ]
     },
     "metadata": {},
     "output_type": "display_data"
    }
   ],
   "source": [
    "prompt = \"Why is the sky blue?\"\n",
    "\n",
    "response = client.models.generate_content(model=MODEL_ID, contents=prompt)\n",
    "display(Markdown(response.text))"
   ]
  },
  {
   "cell_type": "markdown",
   "metadata": {
    "id": "PJIL2RTQaGcT"
   },
   "source": [
    "### Watch out for hallucinations"
   ]
  },
  {
   "cell_type": "markdown",
   "metadata": {
    "id": "8Y8kYxrSaHE9"
   },
   "source": [
    "Although LLMs have been trained on a large amount of data, they can generate text containing statements not grounded in truth or reality; these responses from the LLM are often referred to as \"hallucinations\" due to their limited memorization capabilities. Note that simply prompting the LLM to provide a citation isn't a fix to this problem, as there are instances of LLMs providing false or inaccurate citations. Dealing with hallucinations is a fundamental challenge of LLMs and an ongoing research area, so it is important to be cognizant that LLMs may seem to give you confident, correct-sounding statements that are in fact incorrect.\n",
    "\n",
    "Note that if you intend to use LLMs for the creative use cases, hallucinating could actually be quite useful."
   ]
  },
  {
   "cell_type": "markdown",
   "metadata": {
    "id": "8NY5nAGeaJYS"
   },
   "source": [
    "Try the prompt like the one below repeatedly. We set the temperature to `1.0` so that it takes more risks in its choices. It's possible that it may provide an inaccurate, but confident answer."
   ]
  },
  {
   "cell_type": "code",
   "execution_count": 14,
   "metadata": {
    "id": "QALPjEILaM62",
    "tags": []
   },
   "outputs": [
    {
     "data": {
      "text/markdown": [
       "Today is Sunday, November 12th, 2023.\n"
      ],
      "text/plain": [
       "<IPython.core.display.Markdown object>"
      ]
     },
     "metadata": {},
     "output_type": "display_data"
    }
   ],
   "source": [
    "generation_config = GenerateContentConfig(temperature=1.0)\n",
    "\n",
    "prompt = \"What day is it today?\"\n",
    "\n",
    "response = client.models.generate_content(model=MODEL_ID, contents=prompt)\n",
    "display(Markdown(response.text))"
   ]
  },
  {
   "cell_type": "markdown",
   "metadata": {
    "id": "BRkwzbgRbhKt"
   },
   "source": [
    "Since LLMs do not have access to real-time information without further integrations, you may have noticed it hallucinates what day it is today in some of the outputs."
   ]
  },
  {
   "cell_type": "markdown",
   "metadata": {},
   "source": [
    "## Reduce Output Variability"
   ]
  },
  {
   "cell_type": "markdown",
   "metadata": {
    "id": "3c811e310d02"
   },
   "source": [
    "### Using system instructions to guardrail the model from irrelevant responses\n",
    "\n",
    "How can we attempt to reduce the chances of irrelevant responses and hallucinations?\n",
    "\n",
    "One way is to provide the LLM with [system instructions](https://cloud.google.com/vertex-ai/generative-ai/docs/multimodal/send-chat-prompts-gemini#system-instructions).\n",
    "\n",
    "Let's see how system instructions works and how you can use them to reduce hallucinations or irrelevant questions for a travel chatbot.\n",
    "\n",
    "Suppose we ask a simple question about one of Italy's most famous tourist spots."
   ]
  },
  {
   "cell_type": "code",
   "execution_count": 15,
   "metadata": {
    "id": "rB6zJU76biFK",
    "tags": []
   },
   "outputs": [
    {
     "data": {
      "text/markdown": [
       "The best place for sightseeing in Milan, Italy is Piazza del Duomo. It is home to the iconic Duomo di Milano, a magnificent cathedral that is a must-see for any visitor to Milan. Other popular sights include the Galleria Vittorio Emanuele II, Teatro alla Scala, and the Pinacoteca di Brera.\n"
      ],
      "text/plain": [
       "<IPython.core.display.Markdown object>"
      ]
     },
     "metadata": {},
     "output_type": "display_data"
    }
   ],
   "source": [
    "generation_config = GenerateContentConfig(temperature=1.0)\n",
    "\n",
    "chat = client.chats.create(\n",
    "    model=MODEL_ID,\n",
    "    config=GenerateContentConfig(\n",
    "        system_instruction=[\n",
    "            \"Hello! You are an AI chatbot for a travel web site.\",\n",
    "            \"Your mission is to provide helpful queries for travelers.\",\n",
    "            \"Remember that before you answer a question, you must check to see if it complies with your mission.\",\n",
    "            \"If not, you can say, Sorry I can't answer that question.\",\n",
    "        ]\n",
    "    ),\n",
    ")\n",
    "\n",
    "prompt = \"What is the best place for sightseeing in Milan, Italy?\"\n",
    "\n",
    "response = chat.send_message(prompt)\n",
    "display(Markdown(response.text))"
   ]
  },
  {
   "cell_type": "markdown",
   "metadata": {
    "id": "WZa-Qcf9cF4A"
   },
   "source": [
    "Now let us pretend to be a user asks the chatbot a question that is unrelated to travel."
   ]
  },
  {
   "cell_type": "code",
   "execution_count": 16,
   "metadata": {
    "id": "AZKBIDr2cGnu",
    "tags": []
   },
   "outputs": [
    {
     "data": {
      "text/markdown": [
       "Hello! Piazza del Duomo is a great place for sightseeing in Milan, Italy. It is home to the iconic Duomo di Milano.\n"
      ],
      "text/plain": [
       "<IPython.core.display.Markdown object>"
      ]
     },
     "metadata": {},
     "output_type": "display_data"
    }
   ],
   "source": [
    "prompt = \"What is the best place for sightseeing in Milan, Italy?\"\n",
    "\n",
    "response = chat.send_message(prompt)\n",
    "display(Markdown(response.text))"
   ]
  },
  {
   "cell_type": "markdown",
   "metadata": {
    "id": "JiUYIhwpctCy"
   },
   "source": [
    "You can see that this way, a guardrail in the prompt prevented the chatbot from veering off course."
   ]
  },
  {
   "cell_type": "markdown",
   "metadata": {
    "id": "ZuuDhA37cvmP"
   },
   "source": [
    "### Turn generative tasks into classification tasks to reduce output variability"
   ]
  },
  {
   "cell_type": "markdown",
   "metadata": {
    "id": "kUCUrsUzczmb"
   },
   "source": [
    "#### Generative tasks lead to higher output variability"
   ]
  },
  {
   "cell_type": "markdown",
   "metadata": {
    "id": "a1xASHAkc46n"
   },
   "source": [
    "The prompt below results in an open-ended response, useful for brainstorming, but response is highly variable."
   ]
  },
  {
   "cell_type": "code",
   "execution_count": 17,
   "metadata": {
    "id": "nPfXQWIacwRf",
    "tags": []
   },
   "outputs": [
    {
     "data": {
      "text/markdown": [
       "Okay, here's a breakdown of programming activities tailored for high school students, focusing on skill improvement and engagement, along with some suggestions on how to approach them:\n",
       "\n",
       "**Understanding Your Current Skill Level and Goals:**\n",
       "\n",
       "*   **Beginner:** You're new to coding or have only done a few introductory tutorials. You understand basic concepts like variables, loops, and conditional statements.\n",
       "*   **Intermediate:** You're comfortable with the fundamentals and can write simple programs. You've likely worked on a few projects and understand basic data structures (like lists/arrays).\n",
       "*   **Advanced:** You have experience with multiple languages, data structures, algorithms, and potentially some software development methodologies. You're looking to tackle more complex problems.\n",
       "\n",
       "**General Tips for All Levels:**\n",
       "\n",
       "*   **Choose a Project that Interests You:**  Motivation is key! Pick something you're genuinely excited about.  This could be related to a hobby, a game you like, or a real-world problem you want to solve.\n",
       "*   **Break It Down:**  Large projects can be overwhelming. Divide your project into smaller, manageable tasks.\n",
       "*   **Use Version Control (Git):**  Learn how to use Git and a platform like GitHub or GitLab. This is essential for collaboration, tracking changes, and reverting to previous versions.\n",
       "*   **Google is Your Friend:**  Don't be afraid to search for solutions and learn from others.  However, focus on understanding the code you find, not just copying and pasting.\n",
       "*   **Practice Consistently:**  Even 30 minutes of coding a day is better than a few hours once a week.\n",
       "*   **Get Feedback:**  Share your code with friends, teachers, or online communities (like Stack Overflow or Reddit's r/learnprogramming).  Constructive criticism is invaluable.\n",
       "\n",
       "**Beginner Activities:**\n",
       "\n",
       "1.  **Simple Text-Based Games:**\n",
       "    *   **Goal:** Practice basic input/output, conditional statements, and loops.\n",
       "    *   **Examples:**\n",
       "        *   **Number Guessing Game:** The computer picks a random number, and the user has to guess it. Give feedback (\"too high,\" \"too low\") until they guess correctly.\n",
       "        *   **Rock, Paper, Scissors:**  The user plays against the computer.\n",
       "        *   **Basic Text Adventure:**  The user navigates a simple environment by typing commands.\n",
       "    *   **Languages:** Python, JavaScript (using `prompt()` and `alert()`), or any language you're learning.\n",
       "\n",
       "2.  **Simple Calculator:**\n",
       "    *   **Goal:**  Practice arithmetic operations, user input, and error handling.\n",
       "    *   **Features:** Allow the user to perform addition, subtraction, multiplication, and division.  Handle potential errors like division by zero.\n",
       "    *   **Languages:** Python, JavaScript, Java, C++, or any language.\n",
       "\n",
       "3.  **Unit Converter:**\n",
       "    *   **Goal:**  Practice data types, arithmetic, and conditional logic.\n",
       "    *   **Examples:** Convert between Celsius and Fahrenheit, inches and centimeters, kilograms and pounds.\n",
       "    *   **Languages:**  Python, JavaScript, Java, C++, or any language.\n",
       "\n",
       "4.  **\"Hello, World!\" variations:**\n",
       "    * **Goal:** Get used to the syntax of different languages\n",
       "    * **Examples:** Print \"Hello World\" in 5 different languages. Look into printing different messages.\n",
       "\n",
       "**Intermediate Activities:**\n",
       "\n",
       "1.  **To-Do List Application:**\n",
       "    *   **Goal:**  Practice working with lists/arrays, user input, and basic data persistence (saving data to a file).\n",
       "    *   **Features:**  Allow the user to add, remove, mark as complete, and list tasks.\n",
       "    *   **Languages:** Python, JavaScript (using local storage), Java, C++.\n",
       "\n",
       "2.  **Basic Web Scraper:**\n",
       "    *   **Goal:**  Learn how to retrieve data from websites and parse HTML.\n",
       "    *   **Example:** Scrape the headlines from a news website.\n",
       "    *   **Languages:** Python (with libraries like `requests` and `Beautiful Soup`), JavaScript (with `fetch` and DOM manipulation). *Be respectful of website terms of service.*\n",
       "\n",
       "3.  **Simple Chatbot:**\n",
       "    *   **Goal:**  Practice string manipulation, conditional logic, and possibly regular expressions.\n",
       "    *   **Features:** The chatbot can respond to simple greetings, answer basic questions, and tell jokes.\n",
       "    *   **Languages:** Python, JavaScript.  Consider using a simple chatbot framework (like ChatterBot in Python).\n",
       "\n",
       "4.  **GUI Applications (Graphical User Interface):**\n",
       "    *   **Goal:** Learn how to create a desktop application with buttons, text boxes, and other interactive elements.\n",
       "    *   **Examples:**\n",
       "        *   A simple calculator with a graphical interface.\n",
       "        *   A paint program with basic drawing tools.\n",
       "    *   **Languages/Frameworks:** Python (with Tkinter, PyQt, or Kivy), Java (with Swing or JavaFX), C++ (with Qt).\n",
       "\n",
       "5. **Small Games**\n",
       "    * **Goal:** Learn about design patterns and object oriented programming.\n",
       "    * **Examples:**\n",
       "        * Tic Tac Toe\n",
       "        * Connect Four\n",
       "\n",
       "**Advanced Activities:**\n",
       "\n",
       "1.  **More Complex Web Applications:**\n",
       "    *   **Goal:**  Learn about web frameworks, databases, and server-side programming.\n",
       "    *   **Examples:**\n",
       "        *   A simple blog or forum.\n",
       "        *   A web-based game.\n",
       "    *   **Languages/Frameworks:** Python (with Django or Flask), JavaScript (with Node.js, React, Angular, or Vue.js), Java (with Spring Boot).  You'll likely need to learn SQL and work with a database like MySQL or PostgreSQL.\n",
       "\n",
       "2.  **Data Analysis and Visualization:**\n",
       "    *   **Goal:** Learn how to process, analyze, and visualize data using programming.\n",
       "    *   **Examples:**\n",
       "        *   Analyze a dataset of stock prices and create charts.\n",
       "        *   Analyze social media data and identify trends.\n",
       "    *   **Languages/Libraries:** Python (with Pandas, NumPy, Matplotlib, Seaborn), R.\n",
       "\n",
       "3.  **Machine Learning Projects:**\n",
       "    *   **Goal:**  Learn the basics of machine learning and build simple models.\n",
       "    *   **Examples:**\n",
       "        *   Image classification (e.g., identify cats vs. dogs).\n",
       "        *   Spam detection.\n",
       "    *   **Languages/Libraries:** Python (with Scikit-learn, TensorFlow, or PyTorch).\n",
       "\n",
       "4.  **Contribute to Open Source Projects:**\n",
       "    *   **Goal:**  Gain experience working on real-world projects with other developers.\n",
       "    *   **How:** Find a project on GitHub that interests you, read the contribution guidelines, and submit a pull request to fix a bug or add a feature.\n",
       "    *   **Benefits:**  Learn from experienced developers, improve your coding skills, and build your portfolio.\n",
       "\n",
       "5.  **Operating System or Compiler Development**\n",
       "    *   **Goal:** Learn how computers and programming languages work at a low level\n",
       "    *   **Examples:**\n",
       "        *   Implement a scheduler\n",
       "        *   Implement garbage collection\n",
       "    *   **Languages/Libraries:** C or C++\n",
       "\n",
       "**Specific Recommendations Based on Interests:**\n",
       "\n",
       "*   **Game Development:**  Start with simple 2D games using libraries like Pygame (Python), Phaser (JavaScript), or LibGDX (Java).  Progress to more complex games using engines like Unity or Unreal Engine (C++).\n",
       "*   **Web Development:**  Focus on learning HTML, CSS, and JavaScript.  Then, learn a front-end framework like React, Angular, or Vue.js and a back-end framework like Node.js, Django, or Flask.\n",
       "*   **Data Science:**  Learn Python and libraries like Pandas, NumPy, Matplotlib, and Scikit-learn.  Find interesting datasets to analyze and visualize.\n",
       "\n",
       "**Remember to document your projects and build a portfolio to showcase your skills!** This will be very valuable when applying for internships or jobs. Good luck!\n"
      ],
      "text/plain": [
       "<IPython.core.display.Markdown object>"
      ]
     },
     "metadata": {},
     "output_type": "display_data"
    }
   ],
   "source": [
    "prompt = \"I'm a high school student. Recommend me a programming activity to improve my skills.\"\n",
    "\n",
    "response = client.models.generate_content(model=MODEL_ID, contents=prompt)\n",
    "display(Markdown(response.text))"
   ]
  },
  {
   "cell_type": "markdown",
   "metadata": {
    "id": "iAmm9wPYc_1o"
   },
   "source": [
    "#### Classification tasks reduces output variability"
   ]
  },
  {
   "cell_type": "markdown",
   "metadata": {
    "id": "VvRpK_0GdCpf"
   },
   "source": [
    "The prompt below results in a choice and may be useful if you want the output to be easier to control."
   ]
  },
  {
   "cell_type": "code",
   "execution_count": 18,
   "metadata": {
    "id": "kYDKh0r2dAqo",
    "tags": []
   },
   "outputs": [
    {
     "data": {
      "text/markdown": [
       "Okay, for a high school student looking to learn a programming language, I strongly recommend either **Python (a)** or **JavaScript (b)**. Here's a breakdown of why, and why Fortran is likely a less suitable choice at this stage:\n",
       "\n",
       "**My Recommendation: Either Python or JavaScript (depending on your goals)**\n",
       "\n",
       "Here's a comparison table to help you decide:\n",
       "\n",
       "| Feature            | Python                                    | JavaScript                                 | Fortran                                    |\n",
       "|---------------------|--------------------------------------------|---------------------------------------------|---------------------------------------------|\n",
       "| **Ease of Learning** | Easier for beginners, clear syntax         | Steeper learning curve initially             | Can be challenging for beginners            |\n",
       "| **Applications**   | Data science, AI, scripting, web backend  | Web development (frontend & backend), games | Scientific computing, engineering simulation |\n",
       "| **Community & Resources**| Huge and very active                   | Huge and very active                        | Smaller, more specialized                    |\n",
       "| **Job Market**      | Excellent, high demand                    | Excellent, high demand                     | Niche, but good within specific fields       |\n",
       "| **Immediate Gratification**| Easier to get quick results (simple scripts)| Easy to see results in a browser (frontend) | Slower to see visual/interactive results    |\n",
       "\n",
       "**Why Python is a Great Choice:**\n",
       "\n",
       "*   **Beginner-Friendly:** Python's syntax is designed to be readable and easy to understand, almost like plain English.  This makes it much easier to grasp fundamental programming concepts.\n",
       "*   **Versatile:** Python is used in a wide variety of fields, including:\n",
       "    *   **Data Science:**  If you're interested in working with data, analyzing trends, or building machine learning models, Python is the dominant language.\n",
       "    *   **Web Development (Backend):** Python frameworks like Django and Flask are used to build the server-side logic of websites.\n",
       "    *   **Scripting and Automation:**  You can write Python scripts to automate repetitive tasks on your computer.\n",
       "    *   **Game Development:** While not its primary focus, Python can be used for game development with libraries like Pygame.\n",
       "*   **Huge Community and Resources:**  If you get stuck, there are tons of online tutorials, documentation, and forums to help you.  The Python community is very supportive.\n",
       "*   **Good Career Prospects:** Python skills are in high demand in many industries.\n",
       "\n",
       "**Why JavaScript is a Great Choice:**\n",
       "\n",
       "*   **Web Development is Key:** JavaScript is *essential* for front-end web development. It's the language that makes websites interactive and dynamic.  If you want to build websites that do more than just display static information, you need JavaScript.\n",
       "*   **Full-Stack Potential:** With Node.js, you can also use JavaScript to build the backend (server-side) of web applications. This means you can use one language for the entire web development process (full-stack).\n",
       "*   **Ubiquitous:** JavaScript runs in every web browser.  You don't need to install anything extra to start coding (just a text editor and a browser).\n",
       "*   **Interactive and Visual:** It's easy to see the results of your JavaScript code in a browser, which can be very motivating. You can create buttons, animations, and other interactive elements quickly.\n",
       "*   **Large Community:** A massive and active community means plenty of online resources, libraries, and frameworks to help you learn and build things.\n",
       "\n",
       "**Why Fortran is Not the Best Choice (at this stage):**\n",
       "\n",
       "*   **Specialized:** Fortran is primarily used for scientific computing and engineering simulations. While it's powerful in these domains, it's not as broadly applicable as Python or JavaScript.\n",
       "*   **Steeper Learning Curve:** Fortran's syntax and programming paradigms can be more challenging for beginners to grasp.\n",
       "*   **Smaller Community:** While the Fortran community is dedicated, it's significantly smaller than the Python or JavaScript communities.  This means fewer readily available tutorials and resources for learners.\n",
       "*   **Limited Immediate Gratification:** It can be harder to see visually appealing or interactive results quickly with Fortran compared to web development with JavaScript or general scripting with Python.\n",
       "\n",
       "**In Summary:**\n",
       "\n",
       "*   **Choose Python if:** You're interested in data science, AI, general-purpose programming, scripting, or want an easier entry point to programming.\n",
       "*   **Choose JavaScript if:** You're passionate about web development and creating interactive websites.\n",
       "*   **Avoid Fortran (for now):** Unless you *specifically* know you want to work in scientific computing or engineering, it's not the best starting point.  You can always learn Fortran later if your interests lead you in that direction.\n",
       "\n",
       "**My Suggestion for Getting Started:**\n",
       "\n",
       "1.  **Pick either Python or JavaScript.**\n",
       "2.  **Find a good online course or tutorial:**  There are many excellent free and paid resources available on platforms like Codecademy, freeCodeCamp, Coursera, Udemy, and YouTube.\n",
       "3.  **Start with the basics:**  Learn about variables, data types, operators, control flow (if/else statements, loops), and functions.\n",
       "4.  **Practice, practice, practice:**  The best way to learn is by writing code.  Work on small projects to reinforce what you've learned.  Try to solve simple problems and gradually increase the complexity.\n",
       "5.  **Don't be afraid to ask for help:**  Join online forums or communities where you can ask questions and get support from other learners and experienced programmers.\n",
       "\n",
       "Good luck with your programming journey!\n"
      ],
      "text/plain": [
       "<IPython.core.display.Markdown object>"
      ]
     },
     "metadata": {},
     "output_type": "display_data"
    }
   ],
   "source": [
    "prompt = \"\"\"I'm a high school student. Which of these activities do you suggest and why:\n",
    "a) learn Python\n",
    "b) learn JavaScript\n",
    "c) learn Fortran\n",
    "\"\"\"\n",
    "\n",
    "response = client.models.generate_content(model=MODEL_ID, contents=prompt)\n",
    "display(Markdown(response.text))"
   ]
  },
  {
   "cell_type": "markdown",
   "metadata": {
    "id": "iTd60b1GdIsx"
   },
   "source": [
    "### Improve response quality by including examples"
   ]
  },
  {
   "cell_type": "markdown",
   "metadata": {
    "id": "yJi44NejdJYE"
   },
   "source": [
    "Another way to improve response quality is to add examples in your prompt. The LLM learns in-context from the examples on how to respond. Typically, one to five examples (shots) are enough to improve the quality of responses. Including too many examples can cause the model to over-fit the data and reduce the quality of responses.\n",
    "\n",
    "Similar to classical model training, the quality and distribution of the examples is very important. Pick examples that are representative of the scenarios that you need the model to learn, and keep the distribution of the examples (e.g. number of examples per class in the case of classification) aligned with your actual distribution."
   ]
  },
  {
   "cell_type": "markdown",
   "metadata": {
    "id": "sMbLginWdOKs"
   },
   "source": [
    "#### Zero-shot prompt"
   ]
  },
  {
   "cell_type": "markdown",
   "metadata": {
    "id": "Crh2Loi2dQ0v"
   },
   "source": [
    "Below is an example of zero-shot prompting, where you don't provide any examples to the LLM within the prompt itself."
   ]
  },
  {
   "cell_type": "code",
   "execution_count": 19,
   "metadata": {
    "id": "-7myRc-SdTQ4",
    "tags": []
   },
   "outputs": [
    {
     "data": {
      "text/markdown": [
       "Sentiment: Positive\n"
      ],
      "text/plain": [
       "<IPython.core.display.Markdown object>"
      ]
     },
     "metadata": {},
     "output_type": "display_data"
    }
   ],
   "source": [
    "prompt = \"\"\"Decide whether a Tweet's sentiment is positive, neutral, or negative.\n",
    "\n",
    "Tweet: I loved the new YouTube video you made!\n",
    "Sentiment:\n",
    "\"\"\"\n",
    "\n",
    "response = client.models.generate_content(model=MODEL_ID, contents=prompt)\n",
    "display(Markdown(response.text))"
   ]
  },
  {
   "cell_type": "markdown",
   "metadata": {
    "id": "ucRtPn9SdL64"
   },
   "source": [
    "#### One-shot prompt"
   ]
  },
  {
   "cell_type": "markdown",
   "metadata": {
    "id": "rs0gQH2vdYBi"
   },
   "source": [
    "Below is an example of one-shot prompting, where you provide one example to the LLM within the prompt to give some guidance on what type of response you want."
   ]
  },
  {
   "cell_type": "code",
   "execution_count": 20,
   "metadata": {
    "id": "iEq-KxGYdaT5",
    "tags": []
   },
   "outputs": [
    {
     "data": {
      "text/markdown": [
       "Sentiment: negative\n"
      ],
      "text/plain": [
       "<IPython.core.display.Markdown object>"
      ]
     },
     "metadata": {},
     "output_type": "display_data"
    }
   ],
   "source": [
    "prompt = \"\"\"Decide whether a Tweet's sentiment is positive, neutral, or negative.\n",
    "\n",
    "Tweet: I loved the new YouTube video you made!\n",
    "Sentiment: positive\n",
    "\n",
    "Tweet: That was awful. Super boring 😠\n",
    "Sentiment:\n",
    "\"\"\"\n",
    "\n",
    "response = client.models.generate_content(model=MODEL_ID, contents=prompt)\n",
    "display(Markdown(response.text))"
   ]
  },
  {
   "cell_type": "markdown",
   "metadata": {
    "id": "JnKLjJzmdfL_"
   },
   "source": [
    "#### Few-shot prompt"
   ]
  },
  {
   "cell_type": "markdown",
   "metadata": {
    "id": "6Zv-9F5OdgI_"
   },
   "source": [
    "Below is an example of few-shot prompting, where you provide a few examples to the LLM within the prompt to give some guidance on what type of response you want."
   ]
  },
  {
   "cell_type": "code",
   "execution_count": 21,
   "metadata": {
    "id": "u37P9tG4dk9S",
    "tags": []
   },
   "outputs": [
    {
     "data": {
      "text/markdown": [
       "Sentiment: positive\n"
      ],
      "text/plain": [
       "<IPython.core.display.Markdown object>"
      ]
     },
     "metadata": {},
     "output_type": "display_data"
    }
   ],
   "source": [
    "prompt = \"\"\"Decide whether a Tweet's sentiment is positive, neutral, or negative.\n",
    "\n",
    "Tweet: I loved the new YouTube video you made!\n",
    "Sentiment: positive\n",
    "\n",
    "Tweet: That was awful. Super boring 😠\n",
    "Sentiment: negative\n",
    "\n",
    "Tweet: Something surprised me about this video - it was actually original. It was not the same old recycled stuff that I always see. Watch it - you will not regret it.\n",
    "Sentiment:\n",
    "\"\"\"\n",
    "\n",
    "response = client.models.generate_content(model=MODEL_ID, contents=prompt)\n",
    "display(Markdown(response.text))"
   ]
  },
  {
   "cell_type": "markdown",
   "metadata": {
    "id": "wDMD3xb2dvX6"
   },
   "source": [
    "#### Choosing between zero-shot, one-shot, few-shot prompting methods"
   ]
  },
  {
   "cell_type": "markdown",
   "metadata": {
    "id": "s92W0YpNdxJp"
   },
   "source": [
    "Which prompt technique to use will solely depends on your goal. The zero-shot prompts are more open-ended and can give you creative answers, while one-shot and few-shot prompts teach the model how to behave so you can get more predictable answers that are consistent with the examples provided."
   ]
  }
 ],
 "metadata": {
  "colab": {
   "name": "intro_prompt_design.ipynb",
   "toc_visible": true
  },
  "environment": {
   "kernel": "conda-base-py",
   "name": "workbench-notebooks.m128",
   "type": "gcloud",
   "uri": "us-docker.pkg.dev/deeplearning-platform-release/gcr.io/workbench-notebooks:m128"
  },
  "kernelspec": {
   "display_name": "Python 3 (ipykernel) (Local) (Local)",
   "language": "python",
   "name": "conda-base-py"
  },
  "language_info": {
   "codemirror_mode": {
    "name": "ipython",
    "version": 3
   },
   "file_extension": ".py",
   "mimetype": "text/x-python",
   "name": "python",
   "nbconvert_exporter": "python",
   "pygments_lexer": "ipython3",
   "version": "3.10.16"
  }
 },
 "nbformat": 4,
 "nbformat_minor": 4
}
