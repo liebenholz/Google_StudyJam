{
 "cells": [
  {
   "cell_type": "code",
   "execution_count": null,
   "metadata": {
    "id": "c3_K0GGSTrhd"
   },
   "outputs": [],
   "source": [
    "# Copyright 2023 Google LLC\n",
    "#\n",
    "# Licensed under the Apache License, Version 2.0 (the \"License\");\n",
    "# you may not use this file except in compliance with the License.\n",
    "# You may obtain a copy of the License at\n",
    "#\n",
    "#     https://www.apache.org/licenses/LICENSE-2.0\n",
    "#\n",
    "# Unless required by applicable law or agreed to in writing, software\n",
    "# distributed under the License is distributed on an \"AS IS\" BASIS,\n",
    "# WITHOUT WARRANTIES OR CONDITIONS OF ANY KIND, either express or implied.\n",
    "# See the License for the specific language governing permissions and\n",
    "# limitations under the License."
   ]
  },
  {
   "cell_type": "markdown",
   "metadata": {
    "id": "7VQkf8sFTeDo"
   },
   "source": [
    "# Getting Started with Text Embeddings + Vertex AI Vector Search\n",
    "\n",
    "\n",
    "<table align=\"left\">\n",
    "  <td style=\"text-align: center\">\n",
    "    <a href=\"https://colab.research.google.com/github/GoogleCloudPlatform/generative-ai/blob/main/embeddings/intro-textemb-vectorsearch.ipynb\">\n",
    "      <img width=\"32px\" src=\"https://www.gstatic.com/pantheon/images/bigquery/welcome_page/colab-logo.svg\" alt=\"Google Colaboratory logo\"><br> Open in Colab\n",
    "    </a>\n",
    "  </td>\n",
    "  <td style=\"text-align: center\">\n",
    "    <a href=\"https://console.cloud.google.com/vertex-ai/colab/import/https:%2F%2Fraw.githubusercontent.com%2FGoogleCloudPlatform%2Fgenerative-ai%2Fmain%2Fembeddings%2Fintro-textemb-vectorsearch.ipynb\">\n",
    "      <img width=\"32px\" src=\"https://lh3.googleusercontent.com/JmcxdQi-qOpctIvWKgPtrzZdJJK-J3sWE1RsfjZNwshCFgE_9fULcNpuXYTilIR2hjwN\" alt=\"Google Cloud Colab Enterprise logo\"><br> Open in Colab Enterprise\n",
    "    </a>\n",
    "  </td>\n",
    "  <td style=\"text-align: center\">\n",
    "    <a href=\"https://console.cloud.google.com/vertex-ai/workbench/deploy-notebook?download_url=https://raw.githubusercontent.com/GoogleCloudPlatform/generative-ai/main/embeddings/intro-textemb-vectorsearch.ipynb\">\n",
    "      <img src=\"https://www.gstatic.com/images/branding/gcpiconscolors/vertexai/v1/32px.svg\" alt=\"Vertex AI logo\"><br> Open in Vertex AI Workbench\n",
    "    </a>\n",
    "  </td>\n",
    "  <td style=\"text-align: center\">\n",
    "    <a href=\"https://console.cloud.google.com/bigquery/import?url=https://github.com/GoogleCloudPlatform/generative-ai/blob/main/embeddings/intro-textemb-vectorsearch.ipynb\">\n",
    "      <img src=\"https://www.gstatic.com/images/branding/gcpiconscolors/bigquery/v1/32px.svg\" alt=\"BigQuery Studio logo\"><br> Open in BigQuery Studio\n",
    "    </a>\n",
    "  </td>\n",
    "  <td style=\"text-align: center\">\n",
    "    <a href=\"https://github.com/GoogleCloudPlatform/generative-ai/blob/main/embeddings/intro-textemb-vectorsearch.ipynb\">\n",
    "      <img width=\"32px\" src=\"https://upload.wikimedia.org/wikipedia/commons/9/91/Octicons-mark-github.svg\" alt=\"GitHub logo\"><br> View on GitHub\n",
    "    </a>\n",
    "  </td>\n",
    "</table>\n",
    "\n",
    "<div style=\"clear: both;\"></div>\n",
    "\n",
    "<b>Share to:</b>\n",
    "\n",
    "<a href=\"https://www.linkedin.com/sharing/share-offsite/?url=https%3A//github.com/GoogleCloudPlatform/generative-ai/blob/main/embeddings/intro-textemb-vectorsearch.ipynb\" target=\"_blank\">\n",
    "  <img width=\"20px\" src=\"https://upload.wikimedia.org/wikipedia/commons/8/81/LinkedIn_icon.svg\" alt=\"LinkedIn logo\">\n",
    "</a>\n",
    "\n",
    "<a href=\"https://bsky.app/intent/compose?text=https%3A//github.com/GoogleCloudPlatform/generative-ai/blob/main/embeddings/intro-textemb-vectorsearch.ipynb\" target=\"_blank\">\n",
    "  <img width=\"20px\" src=\"https://upload.wikimedia.org/wikipedia/commons/7/7a/Bluesky_Logo.svg\" alt=\"Bluesky logo\">\n",
    "</a>\n",
    "\n",
    "<a href=\"https://twitter.com/intent/tweet?url=https%3A//github.com/GoogleCloudPlatform/generative-ai/blob/main/embeddings/intro-textemb-vectorsearch.ipynb\" target=\"_blank\">\n",
    "  <img width=\"20px\" src=\"https://upload.wikimedia.org/wikipedia/commons/5/53/X_logo_2023_original.svg\" alt=\"X logo\">\n",
    "</a>\n",
    "\n",
    "<a href=\"https://reddit.com/submit?url=https%3A//github.com/GoogleCloudPlatform/generative-ai/blob/main/embeddings/intro-textemb-vectorsearch.ipynb\" target=\"_blank\">\n",
    "  <img width=\"20px\" src=\"https://redditinc.com/hubfs/Reddit%20Inc/Brand/Reddit_Logo.png\" alt=\"Reddit logo\">\n",
    "</a>\n",
    "\n",
    "<a href=\"https://www.facebook.com/sharer/sharer.php?u=https%3A//github.com/GoogleCloudPlatform/generative-ai/blob/main/embeddings/intro-textemb-vectorsearch.ipynb\" target=\"_blank\">\n",
    "  <img width=\"20px\" src=\"https://upload.wikimedia.org/wikipedia/commons/5/51/Facebook_f_logo_%282019%29.svg\" alt=\"Facebook logo\">\n",
    "</a>            "
   ]
  },
  {
   "cell_type": "markdown",
   "metadata": {
    "id": "4d742715e6de"
   },
   "source": [
    "| | |\n",
    "|-|-|\n",
    "|Author(s) | [Smitha Venkat](https://github.com/smitha-google), [Kaz Sato](https://github.com/kazunori279)|"
   ]
  },
  {
   "cell_type": "markdown",
   "metadata": {
    "id": "25a71983a324"
   },
   "source": [
    "## Introduction\n",
    "\n",
    "In this tutorial, you learn how to use Google Cloud AI tools to quickly bring the power of Large Language Models to enterprise systems.  \n",
    "\n",
    "This tutorial covers the following -\n",
    "\n",
    "*   What are embeddings - what business challenges do they help solve ?\n",
    "*   Understanding Text with Vertex AI Text Embeddings\n",
    "*   Find Embeddings fast with Vertex AI Vector Search\n",
    "*   Grounding LLM outputs with Vector Search\n",
    "\n",
    "This tutorial is based on [the blog post](https://cloud.google.com/blog/products/ai-machine-learning/how-to-use-grounding-for-your-llms-with-text-embeddings), combined with sample code.\n",
    "\n",
    "\n",
    "### Prerequisites\n",
    "\n",
    "This tutorial is designed for developers who has basic knowledge and experience with Python programming and machine learning.\n",
    "\n",
    "If you are not reading this tutorial in Qwiklab, then you need to have a Google Cloud project that is linked to a billing account to run this. Please go through [this document](https://cloud.google.com/vertex-ai/docs/start/cloud-environment) to create a project and setup a billing account for it.\n",
    "\n",
    "### Choose the runtime environment\n",
    "\n",
    "The notebook can be run on either Google Colab or [Vertex AI Workbench](https://cloud.google.com/vertex-ai-workbench).\n",
    "\n",
    "- To use Colab: Click [this link](https://colab.research.google.com/github/GoogleCloudPlatform/generative-ai/blob/main/embeddings/intro-textemb-vectorsearch.ipynb) to open the tutorial in Colab.\n",
    "\n",
    "- To use Workbench: If it is the first time to use Workbench in your Google Cloud project, open [the Workbench console](https://console.cloud.google.com/vertex-ai/workbench) and click ENABLE button to enable Notebooks API. Then click [this link](https://console.cloud.google.com/vertex-ai/workbench/deploy-notebook?download_url=https://raw.githubusercontent.com/GoogleCloudPlatform/generative-ai/main/embeddings/intro-textemb-vectorsearch.ipynb),  and select an existing notebook or create a new notebook.\n"
   ]
  },
  {
   "cell_type": "markdown",
   "metadata": {
    "id": "2pImjuenUIQz"
   },
   "source": [
    "### How much will this cost?\n",
    "\n",
    "In case you are using your own Cloud project, not a temporary project on Qwiklab, you need to spend roughly a few US dollars to finish this tutorial.\n",
    "\n",
    "The pricing of the Cloud services we will use in this tutorial are available in the following pages:\n",
    "\n",
    "- [Vertex AI Embeddings for Text](https://cloud.google.com/vertex-ai/pricing#generative_ai_models)\n",
    "- [Vertex AI Vector Search](https://cloud.google.com/vertex-ai/pricing#matchingengine)\n",
    "- [BigQuery](https://cloud.google.com/bigquery/pricing)\n",
    "- [Cloud Storage](https://cloud.google.com/storage/pricing)\n",
    "- [Vertex AI Workbench](https://cloud.google.com/vertex-ai/pricing#notebooks) if you use one\n",
    "\n",
    "You can use the [Pricing Calculator](https://cloud.google.com/products/calculator) to generate a cost estimate based on your projected usage. The following is an example of rough cost estimation with the calculator, assuming you will go through this tutorial a couple of time.\n",
    "\n",
    "<img src=\"https://storage.googleapis.com/github-repo/img/embeddings/vs-quickstart/pricing.png\" width=\"50%\"/>\n",
    "\n",
    "### **Warning: delete your objects after the tutorial**\n",
    "\n",
    "In case you are using your own Cloud project, please make sure to delete all the Indexes, Index Endpoints and Cloud Storage buckets (and the Workbench instance if you use one) after finishing this tutorial. Otherwise the remaining assets would incur unexpected costs.\n"
   ]
  },
  {
   "cell_type": "markdown",
   "metadata": {
    "id": "6Fu2OoUDTQ6w"
   },
   "source": [
    "# Bringing Gen AI and LLMs to production services\n",
    "\n",
    "Many people are now starting to think about how to bring Gen AI and LLMs to production services, and facing with several challenges.\n",
    "\n",
    "- \"How to integrate LLMs or AI chatbots with existing IT systems, databases and business data?\"\n",
    "- \"We have thousands of products. How can I let LLM memorize them all precisely?\"\n",
    "- \"How to handle the hallucination issues in AI chatbots to build a reliable service?\"\n",
    "\n",
    "Here is a quick solution: **grounding** with **embeddings** and **vector search**.\n",
    "\n",
    "What is grounding? What are embedding and vector search? In this tutorial, we will learn these crucial concepts to build reliable Gen AI services for enterprise use. But before we dive deeper, let's try the demo below."
   ]
  },
  {
   "cell_type": "markdown",
   "metadata": {
    "id": "ORqZYLgTm9pJ"
   },
   "source": [
    "![](https://storage.googleapis.com/gweb-cloudblog-publish/original_images/1._demo_animation.gif)\n",
    "\n",
    "**Exercise: Try the Stack Overflow semantic search demo:**\n",
    "\n",
    "This demo is available as a [public live demo](https://ai-demos.dev/). Select \"STACKOVERFLOW\" and enter any coding question as a query, so it runs a text search on **8 million** questions posted on [Stack Overflow](https://stackoverflow.com/). Try the text semantic search with some queries like 'How to shuffle rows in SQL?' or arbitrary programming questions.\n",
    "\n",
    "In this tutorial, we are going to see how to build a similar search experience - what is involved in building solutions like this using Vertex AI Embeddings API and Vector Search."
   ]
  },
  {
   "cell_type": "markdown",
   "metadata": {
    "id": "H1MAIOkCw35V"
   },
   "source": [
    "# What is Embeddings?\n",
    "\n",
    "With the rise of LLMs, why is it becoming important for IT engineers and ITDMs to understand how they work?\n",
    "\n",
    "In traditional IT systems, most data is organized as structured or tabular data, using simple keywords, labels, and categories in databases and search engines.\n",
    "\n",
    "![](https://storage.googleapis.com/github-repo/img/embeddings/textemb-vs-notebook/1.png)\n",
    "\n",
    "In contrast, AI-powered services arrange data into a simple data structure known as \"embeddings.\"\n",
    "\n",
    "![](https://storage.googleapis.com/github-repo/img/embeddings/textemb-vs-notebook/2.png)"
   ]
  },
  {
   "cell_type": "markdown",
   "metadata": {
    "id": "hJqjBmQsxz2Z"
   },
   "source": [
    "Once trained with specific content like text, images, or any content, AI creates a space called \"embedding space\", which is essentially a map of the content's meaning.\n",
    "\n",
    "![](https://storage.googleapis.com/github-repo/img/embeddings/textemb-vs-notebook/3.png)\n",
    "\n",
    "AI can identify the location of each content on the map, that's what embedding is.\n",
    "\n",
    "![](https://storage.googleapis.com/github-repo/img/embeddings/textemb-vs-notebook/4.png)\n",
    "\n",
    "Let's take an example where a text discusses movies, music, and actors, with a distribution of 10%, 2%, and 30%, respectively. In this case, the AI can create an embedding with three values: 0.1, 0.02, and 0.3, in 3 dimensional space.\n",
    "\n",
    "![](https://storage.googleapis.com/github-repo/img/embeddings/textemb-vs-notebook/5.png)\n",
    "\n",
    "AI can put content with similar meanings closely together in the space."
   ]
  },
  {
   "cell_type": "markdown",
   "metadata": {
    "id": "A5z7vyTyzk_4"
   },
   "source": [
    "This is how Google organizes data across various services like Google Search, YouTube, Play, and many others, to provide search results and recommendations with relevant content.\n",
    "\n",
    "Embeddings can also be used to represent different types of things in businesses, such as products, users, user activities, conversations, music & videos, signals from IoT sensors, and so on."
   ]
  },
  {
   "cell_type": "markdown",
   "metadata": {
    "id": "tpKVmyEe0ab9"
   },
   "source": [
    "AI and Embeddings are now playing a crucial role in creating a new way of human-computer interaction.\n",
    "\n",
    "![](https://storage.googleapis.com/github-repo/img/embeddings/textemb-vs-notebook/6.png)\n",
    "\n",
    "AI organizes data into embeddings, which represent what the user is looking for, the meaning of contents, or many other things you have in your business. This creates a new level of user experience that is becoming the new standard.\n",
    "\n",
    "To learn more about embeddings, [Foundational courses: Embeddings on Google Machine Learning Crush Course](https://developers.google.com/machine-learning/crash-course/embeddings/video-lecture) and [Meet AI's multitool: Vector embeddings by Dale Markowitz](https://cloud.google.com/blog/topics/developers-practitioners/meet-ais-multitool-vector-embeddings) are great materials.\n"
   ]
  },
  {
   "cell_type": "markdown",
   "metadata": {
    "id": "ovQpiL2GUEXa"
   },
   "source": [
    "# Vertex AI Embeddings for Text\n",
    "\n",
    "With the [Vertex AI Embeddings for Text](https://cloud.google.com/vertex-ai/docs/generative-ai/embeddings/get-text-embeddings), you can easily create a text embedding with LLM. The product is also available on [Vertex AI Model Garden](https://cloud.google.com/model-garden)\n",
    "\n",
    "![](https://storage.googleapis.com/github-repo/img/embeddings/textemb-vs-notebook/7.png)\n",
    "\n",
    "This API is designed to extract embeddings from texts. It can take text input up to 2048 input tokens, and outputs 768 dimensional text embeddings."
   ]
  },
  {
   "cell_type": "markdown",
   "metadata": {
    "id": "nwJHDPG7lU52"
   },
   "source": [
    "## LLM text embedding business use cases\n",
    "\n",
    "With the embedding API, you can apply the innovation of embeddings, combined with the LLM capability, to various text processing tasks, such as:\n",
    "\n",
    "**LLM-enabled Semantic Search**: text embeddings can be used to represent both the meaning and intent of a user's query and documents in the embedding space. Documents that have similar meaning to the user's query intent will be found fast with vector search technology. The model is capable of generating text embeddings that capture the subtle nuances of each sentence and paragraphs in the document.\n",
    "\n",
    "**LLM-enabled Text Classification**: LLM text embeddings can be used for text classification with a deep understanding of different contexts without any training or fine-tuning (so-called zero-shot learning). This wasn't possible with the past language models without task-specific training.\n",
    "\n",
    "**LLM-enabled Recommendation**: The text embedding can be used for recommendation systems as a strong feature for training recommendation models such as Two-Tower model. The model learns the relationship between the query and candidate embeddings, resulting in next-gen user experience with semantic product recommendation.\n",
    "\n",
    "LLM-enabled Clustering, Anomaly Detection, Sentiment Analysis, and more, can be also handled with the LLM-level deep semantics understanding.\n"
   ]
  },
  {
   "cell_type": "markdown",
   "metadata": {
    "id": "ga5A7koYlvlZ"
   },
   "source": [
    "## Sorting 8 million texts at \"librarian-level\" precision\n",
    "\n",
    "Vertex AI Embeddings for Text has an embedding space with 768 dimensions. As explained earlier, the space represents a huge map of a wide variety of texts in the world, organized by their meanings. With each input text, the model can find a location (embedding) in the map.\n",
    "\n",
    "By visualizing the embedding space, you can actually observe how the model sorts the texts at the \"librarian-level\" precision.\n",
    "\n",
    "**Exercise: Try the Nomic AI Atlas**\n",
    "\n",
    "[Nomic AI](http://nomic.ai/) provides a platform called Atlas for storing, visualizing and interacting with embedding spaces with high scalability and in a smooth UI, and they worked with Google for visualizing the embedding space of the 8 million Stack Overflow questions. You can try exploring around the space, zooming in and out to each data point on your browser on this page, courtesy of Nomic AI.\n",
    "\n",
    "The embedding space represents a huge map of texts, organized by their meanings\n",
    "With each input text, the model can find a location (embedding) in the map\n",
    "Like a librarian reading through millions of texts, sorting them with millions of nano-categories\n",
    "\n",
    "Try exploring it [here](https://atlas.nomic.ai/map/edaff028-12b5-42a0-8e8b-6430c9b8222b/bcb42818-3581-4fb5-ac30-9883d01f98ec). Zoom into a few categories, point each dots, and see how the LLM is sorting similar questions close together in the space.\n",
    "\n",
    "![](https://storage.googleapis.com/gweb-cloudblog-publish/images/4._Nomic_AI_Atlas.max-2200x2200.png)\n",
    "\n",
    "### The librarian-level semantic understanding\n",
    "\n",
    "Here are the examples of the librarian-level semantic understanding by Embeddings API with Stack Overflow questions.\n",
    "\n",
    "![](https://storage.googleapis.com/gweb-cloudblog-publish/images/5._semantic_understanding.max-2200x2200.png)\n",
    "\n",
    "For example, the model thinks the question \"Does moving the request line to a header frame require an app change?\" is similar to the question \"Does an application developed on HTTP1x require modifications to run on HTTP2?\". That is because The model knows both questions talk about what's the change required to support the HTTP2 header frame.\n",
    "\n",
    "Note that this demo didn't require any training or fine-tuning with computer programming specific datasets. This is the innovative part of the zero-shot learning capability of the LLM. It can be applied to a wide variety of industries, including finance, healthcare, retail, manufacturing, construction, media, and more, for deep semantic search on the industry-focused business documents without spending time and cost for collecting industry specific datasets and training models."
   ]
  },
  {
   "cell_type": "markdown",
   "metadata": {
    "id": "-iOWOKnIvYxf"
   },
   "source": [
    "# Text Embeddings in Action\n",
    "\n",
    "Lets try using Text Embeddings in action with actual sample code."
   ]
  },
  {
   "cell_type": "markdown",
   "metadata": {
    "id": "AtXnXhF8U-8R"
   },
   "source": [
    "## Setup\n",
    "\n",
    "Before get started with the Vertex AI services, we need to setup the following.\n",
    "\n",
    "* Install Python SDK\n",
    "* Environment variables\n",
    "* Authentication (Colab only)\n",
    "* Enable APIs\n",
    "* Set IAM permissions"
   ]
  },
  {
   "cell_type": "markdown",
   "metadata": {
    "id": "UjnvWl6FLUlF"
   },
   "source": [
    "### Install Python SDK\n",
    "\n",
    "Vertex AI, Cloud Storage and BigQuery APIs can be accessed with multiple ways including REST API and Python SDK. In this tutorial we will use the SDK."
   ]
  },
  {
   "cell_type": "code",
   "execution_count": 1,
   "metadata": {
    "id": "FZgLGALt_al7",
    "tags": []
   },
   "outputs": [
    {
     "name": "stdout",
     "output_type": "stream",
     "text": [
      "Requirement already satisfied: google-cloud-aiplatform in /opt/conda/lib/python3.10/site-packages (1.79.0)\n",
      "Collecting google-cloud-aiplatform\n",
      "  Downloading google_cloud_aiplatform-1.83.0-py2.py3-none-any.whl.metadata (33 kB)\n",
      "Requirement already satisfied: google-cloud-storage in /opt/conda/lib/python3.10/site-packages (2.14.0)\n",
      "Collecting google-cloud-storage\n",
      "  Downloading google_cloud_storage-3.1.0-py2.py3-none-any.whl.metadata (12 kB)\n",
      "Requirement already satisfied: google-cloud-bigquery[pandas] in /opt/conda/lib/python3.10/site-packages (3.25.0)\n",
      "Collecting google-cloud-bigquery[pandas]\n",
      "  Downloading google_cloud_bigquery-3.30.0-py2.py3-none-any.whl.metadata (7.9 kB)\n",
      "Requirement already satisfied: google-api-core!=2.0.*,!=2.1.*,!=2.2.*,!=2.3.*,!=2.4.*,!=2.5.*,!=2.6.*,!=2.7.*,<3.0.0dev,>=1.34.1 in /opt/conda/lib/python3.10/site-packages (from google-api-core[grpc]!=2.0.*,!=2.1.*,!=2.2.*,!=2.3.*,!=2.4.*,!=2.5.*,!=2.6.*,!=2.7.*,<3.0.0dev,>=1.34.1->google-cloud-aiplatform) (1.34.1)\n",
      "Requirement already satisfied: google-auth<3.0.0dev,>=2.14.1 in /opt/conda/lib/python3.10/site-packages (from google-cloud-aiplatform) (2.38.0)\n",
      "Requirement already satisfied: proto-plus<2.0.0dev,>=1.22.3 in /opt/conda/lib/python3.10/site-packages (from google-cloud-aiplatform) (1.26.0)\n",
      "Requirement already satisfied: protobuf!=4.21.0,!=4.21.1,!=4.21.2,!=4.21.3,!=4.21.4,!=4.21.5,<6.0.0dev,>=3.20.2 in /opt/conda/lib/python3.10/site-packages (from google-cloud-aiplatform) (3.20.3)\n",
      "Requirement already satisfied: packaging>=14.3 in /opt/conda/lib/python3.10/site-packages (from google-cloud-aiplatform) (24.2)\n",
      "Collecting google-cloud-storage\n",
      "  Downloading google_cloud_storage-2.19.0-py2.py3-none-any.whl.metadata (9.1 kB)\n",
      "Requirement already satisfied: google-cloud-resource-manager<3.0.0dev,>=1.3.3 in /opt/conda/lib/python3.10/site-packages (from google-cloud-aiplatform) (1.14.0)\n",
      "Requirement already satisfied: shapely<3.0.0dev in /opt/conda/lib/python3.10/site-packages (from google-cloud-aiplatform) (2.0.7)\n",
      "Requirement already satisfied: pydantic<3 in /opt/conda/lib/python3.10/site-packages (from google-cloud-aiplatform) (2.10.6)\n",
      "Requirement already satisfied: typing-extensions in /opt/conda/lib/python3.10/site-packages (from google-cloud-aiplatform) (4.12.2)\n",
      "Requirement already satisfied: docstring-parser<1 in /opt/conda/lib/python3.10/site-packages (from google-cloud-aiplatform) (0.16)\n",
      "Collecting google-api-core!=2.0.*,!=2.1.*,!=2.2.*,!=2.3.*,!=2.4.*,!=2.5.*,!=2.6.*,!=2.7.*,<3.0.0dev,>=1.34.1 (from google-api-core[grpc]!=2.0.*,!=2.1.*,!=2.2.*,!=2.3.*,!=2.4.*,!=2.5.*,!=2.6.*,!=2.7.*,<3.0.0dev,>=1.34.1->google-cloud-aiplatform)\n",
      "  Downloading google_api_core-2.24.1-py3-none-any.whl.metadata (3.0 kB)\n",
      "Requirement already satisfied: google-cloud-core<3.0dev,>=2.3.0 in /opt/conda/lib/python3.10/site-packages (from google-cloud-storage) (2.4.1)\n",
      "Requirement already satisfied: google-resumable-media>=2.7.2 in /opt/conda/lib/python3.10/site-packages (from google-cloud-storage) (2.7.2)\n",
      "Requirement already satisfied: requests<3.0.0dev,>=2.18.0 in /opt/conda/lib/python3.10/site-packages (from google-cloud-storage) (2.32.3)\n",
      "Requirement already satisfied: google-crc32c<2.0dev,>=1.0 in /opt/conda/lib/python3.10/site-packages (from google-cloud-storage) (1.6.0)\n",
      "Requirement already satisfied: python-dateutil<3.0dev,>=2.7.3 in /opt/conda/lib/python3.10/site-packages (from google-cloud-bigquery[pandas]) (2.9.0.post0)\n",
      "Requirement already satisfied: pandas>=1.1.0 in /opt/conda/lib/python3.10/site-packages (from google-cloud-bigquery[pandas]) (2.2.3)\n",
      "Requirement already satisfied: grpcio<2.0dev,>=1.47.0 in /opt/conda/lib/python3.10/site-packages (from google-cloud-bigquery[pandas]) (1.70.0)\n",
      "Requirement already satisfied: pyarrow>=3.0.0 in /opt/conda/lib/python3.10/site-packages (from google-cloud-bigquery[pandas]) (15.0.2)\n",
      "Requirement already satisfied: db-dtypes<2.0.0dev,>=0.3.0 in /opt/conda/lib/python3.10/site-packages (from google-cloud-bigquery[pandas]) (1.4.1)\n",
      "Collecting pandas-gbq>=0.26.1 (from google-cloud-bigquery[pandas])\n",
      "  Downloading pandas_gbq-0.28.0-py2.py3-none-any.whl.metadata (3.3 kB)\n",
      "Requirement already satisfied: numpy>=1.16.6 in /opt/conda/lib/python3.10/site-packages (from db-dtypes<2.0.0dev,>=0.3.0->google-cloud-bigquery[pandas]) (1.26.4)\n",
      "Requirement already satisfied: googleapis-common-protos<2.0.dev0,>=1.56.2 in /opt/conda/lib/python3.10/site-packages (from google-api-core!=2.0.*,!=2.1.*,!=2.2.*,!=2.3.*,!=2.4.*,!=2.5.*,!=2.6.*,!=2.7.*,<3.0.0dev,>=1.34.1->google-api-core[grpc]!=2.0.*,!=2.1.*,!=2.2.*,!=2.3.*,!=2.4.*,!=2.5.*,!=2.6.*,!=2.7.*,<3.0.0dev,>=1.34.1->google-cloud-aiplatform) (1.66.0)\n",
      "Requirement already satisfied: grpcio-status<2.0.dev0,>=1.33.2 in /opt/conda/lib/python3.10/site-packages (from google-api-core[grpc]!=2.0.*,!=2.1.*,!=2.2.*,!=2.3.*,!=2.4.*,!=2.5.*,!=2.6.*,!=2.7.*,<3.0.0dev,>=1.34.1->google-cloud-aiplatform) (1.49.0rc1)\n",
      "Requirement already satisfied: cachetools<6.0,>=2.0.0 in /opt/conda/lib/python3.10/site-packages (from google-auth<3.0.0dev,>=2.14.1->google-cloud-aiplatform) (5.5.1)\n",
      "Requirement already satisfied: pyasn1-modules>=0.2.1 in /opt/conda/lib/python3.10/site-packages (from google-auth<3.0.0dev,>=2.14.1->google-cloud-aiplatform) (0.4.1)\n",
      "Requirement already satisfied: rsa<5,>=3.1.4 in /opt/conda/lib/python3.10/site-packages (from google-auth<3.0.0dev,>=2.14.1->google-cloud-aiplatform) (4.9)\n",
      "Requirement already satisfied: grpc-google-iam-v1<1.0.0dev,>=0.12.4 in /opt/conda/lib/python3.10/site-packages (from google-cloud-resource-manager<3.0.0dev,>=1.3.3->google-cloud-aiplatform) (0.14.0)\n",
      "Requirement already satisfied: pytz>=2020.1 in /opt/conda/lib/python3.10/site-packages (from pandas>=1.1.0->google-cloud-bigquery[pandas]) (2025.1)\n",
      "Requirement already satisfied: tzdata>=2022.7 in /opt/conda/lib/python3.10/site-packages (from pandas>=1.1.0->google-cloud-bigquery[pandas]) (2025.1)\n",
      "Requirement already satisfied: setuptools in /opt/conda/lib/python3.10/site-packages (from pandas-gbq>=0.26.1->google-cloud-bigquery[pandas]) (75.8.0)\n",
      "Requirement already satisfied: pydata-google-auth>=1.5.0 in /opt/conda/lib/python3.10/site-packages (from pandas-gbq>=0.26.1->google-cloud-bigquery[pandas]) (1.9.1)\n",
      "Requirement already satisfied: google-auth-oauthlib>=0.7.0 in /opt/conda/lib/python3.10/site-packages (from pandas-gbq>=0.26.1->google-cloud-bigquery[pandas]) (1.2.1)\n",
      "Requirement already satisfied: annotated-types>=0.6.0 in /opt/conda/lib/python3.10/site-packages (from pydantic<3->google-cloud-aiplatform) (0.7.0)\n",
      "Requirement already satisfied: pydantic-core==2.27.2 in /opt/conda/lib/python3.10/site-packages (from pydantic<3->google-cloud-aiplatform) (2.27.2)\n",
      "Requirement already satisfied: six>=1.5 in /opt/conda/lib/python3.10/site-packages (from python-dateutil<3.0dev,>=2.7.3->google-cloud-bigquery[pandas]) (1.17.0)\n",
      "Requirement already satisfied: charset_normalizer<4,>=2 in /opt/conda/lib/python3.10/site-packages (from requests<3.0.0dev,>=2.18.0->google-cloud-storage) (3.4.1)\n",
      "Requirement already satisfied: idna<4,>=2.5 in /opt/conda/lib/python3.10/site-packages (from requests<3.0.0dev,>=2.18.0->google-cloud-storage) (3.10)\n",
      "Requirement already satisfied: urllib3<3,>=1.21.1 in /opt/conda/lib/python3.10/site-packages (from requests<3.0.0dev,>=2.18.0->google-cloud-storage) (1.26.20)\n",
      "Requirement already satisfied: certifi>=2017.4.17 in /opt/conda/lib/python3.10/site-packages (from requests<3.0.0dev,>=2.18.0->google-cloud-storage) (2024.12.14)\n",
      "Requirement already satisfied: requests-oauthlib>=0.7.0 in /opt/conda/lib/python3.10/site-packages (from google-auth-oauthlib>=0.7.0->pandas-gbq>=0.26.1->google-cloud-bigquery[pandas]) (2.0.0)\n",
      "Requirement already satisfied: pyasn1<0.7.0,>=0.4.6 in /opt/conda/lib/python3.10/site-packages (from pyasn1-modules>=0.2.1->google-auth<3.0.0dev,>=2.14.1->google-cloud-aiplatform) (0.6.1)\n",
      "Requirement already satisfied: oauthlib>=3.0.0 in /opt/conda/lib/python3.10/site-packages (from requests-oauthlib>=0.7.0->google-auth-oauthlib>=0.7.0->pandas-gbq>=0.26.1->google-cloud-bigquery[pandas]) (3.2.2)\n",
      "Downloading google_cloud_aiplatform-1.83.0-py2.py3-none-any.whl (7.3 MB)\n",
      "\u001b[2K   \u001b[90m━━━━━━━━━━━━━━━━━━━━━━━━━━━━━━━━━━━━━━━━\u001b[0m \u001b[32m7.3/7.3 MB\u001b[0m \u001b[31m39.9 MB/s\u001b[0m eta \u001b[36m0:00:00\u001b[0m\n",
      "\u001b[?25hDownloading google_cloud_storage-2.19.0-py2.py3-none-any.whl (131 kB)\n",
      "Downloading google_api_core-2.24.1-py3-none-any.whl (160 kB)\n",
      "Downloading google_cloud_bigquery-3.30.0-py2.py3-none-any.whl (247 kB)\n",
      "Downloading pandas_gbq-0.28.0-py2.py3-none-any.whl (37 kB)\n",
      "Installing collected packages: google-api-core, google-cloud-storage, google-cloud-bigquery, pandas-gbq, google-cloud-aiplatform\n",
      "\u001b[33m  WARNING: The script tb-gcp-uploader is installed in '/home/jupyter/.local/bin' which is not on PATH.\n",
      "  Consider adding this directory to PATH or, if you prefer to suppress this warning, use --no-warn-script-location.\u001b[0m\u001b[33m\n",
      "\u001b[0m\u001b[31mERROR: pip's dependency resolver does not currently take into account all the packages that are installed. This behaviour is the source of the following dependency conflicts.\n",
      "google-api-python-client 1.8.0 requires google-api-core<2dev,>=1.13.0, but you have google-api-core 2.24.1 which is incompatible.\u001b[0m\u001b[31m\n",
      "\u001b[0mSuccessfully installed google-api-core-2.24.1 google-cloud-aiplatform-1.83.0 google-cloud-bigquery-3.30.0 google-cloud-storage-2.19.0 pandas-gbq-0.28.0\n",
      "\n",
      "\u001b[1m[\u001b[0m\u001b[34;49mnotice\u001b[0m\u001b[1;39;49m]\u001b[0m\u001b[39;49m A new release of pip is available: \u001b[0m\u001b[31;49m25.0\u001b[0m\u001b[39;49m -> \u001b[0m\u001b[32;49m25.0.1\u001b[0m\n",
      "\u001b[1m[\u001b[0m\u001b[34;49mnotice\u001b[0m\u001b[1;39;49m]\u001b[0m\u001b[39;49m To update, run: \u001b[0m\u001b[32;49mpip install --upgrade pip\u001b[0m\n",
      "Note: you may need to restart the kernel to use updated packages.\n"
     ]
    }
   ],
   "source": [
    "%pip install --upgrade --user google-cloud-aiplatform google-cloud-storage 'google-cloud-bigquery[pandas]'"
   ]
  },
  {
   "cell_type": "markdown",
   "metadata": {
    "id": "R5Xep4W9lq-Z"
   },
   "source": [
    "### Restart current runtime\n",
    "\n",
    "To use the newly installed packages in this Jupyter runtime, you must restart the runtime. You can do this by running the cell below, which will restart the current kernel."
   ]
  },
  {
   "cell_type": "code",
   "execution_count": 2,
   "metadata": {
    "id": "XRvKdaPDTznN",
    "tags": []
   },
   "outputs": [
    {
     "data": {
      "text/plain": [
       "{'status': 'ok', 'restart': True}"
      ]
     },
     "execution_count": 2,
     "metadata": {},
     "output_type": "execute_result"
    }
   ],
   "source": [
    "# Restart kernel after installs so that your environment can access the new packages\n",
    "import IPython\n",
    "\n",
    "app = IPython.Application.instance()\n",
    "app.kernel.do_shutdown(True)"
   ]
  },
  {
   "cell_type": "markdown",
   "metadata": {
    "id": "SbmM4z7FOBpM"
   },
   "source": [
    "<div class=\"alert alert-block alert-warning\">\n",
    "<b>⚠️ The kernel is going to restart. Please wait until it is finished before continuing to the next step. ⚠️</b>\n",
    "</div>\n"
   ]
  },
  {
   "cell_type": "markdown",
   "metadata": {
    "id": "nCoTvkOJoh76"
   },
   "source": [
    "### Environment variables\n",
    "\n",
    "Sets environment variables. If asked, please replace the following `[your-project-id]` with your project ID and run it."
   ]
  },
  {
   "cell_type": "code",
   "execution_count": 1,
   "metadata": {
    "id": "fkmvFRrj3nQI",
    "tags": []
   },
   "outputs": [],
   "source": [
    "# get project ID\n",
    "PROJECT_ID = ! gcloud config get project\n",
    "PROJECT_ID = PROJECT_ID[0]\n",
    "LOCATION = \"us-central1\"\n",
    "if PROJECT_ID == \"(unset)\":\n",
    "    print(f\"Please set the project ID manually below\")"
   ]
  },
  {
   "cell_type": "code",
   "execution_count": null,
   "metadata": {
    "id": "69XJ95rNoYG9",
    "tags": []
   },
   "outputs": [],
   "source": [
    "# define project information\n",
    "if PROJECT_ID == \"(unset)\":\n",
    "    PROJECT_ID = \"[your-project-id]\"  # @param {type:\"string\"}\n",
    "\n",
    "# generate an unique id for this session\n",
    "from datetime import datetime\n",
    "\n",
    "UID = datetime.now().strftime(\"%m%d%H%M\")"
   ]
  },
  {
   "cell_type": "markdown",
   "metadata": {
    "id": "ph7mDSMRVTIZ"
   },
   "source": [
    "### Authentication (Colab only)\n",
    "\n",
    "If you are running this notebook on Colab, you will need to run the following cell authentication. This step is not required if you are using Vertex AI Workbench as it is pre-authenticated."
   ]
  },
  {
   "cell_type": "code",
   "execution_count": 3,
   "metadata": {
    "id": "5jQkFtlimNXR",
    "tags": []
   },
   "outputs": [],
   "source": [
    "import sys\n",
    "\n",
    "# if it's Colab runtime, authenticate the user with Google Cloud\n",
    "if \"google.colab\" in sys.modules:\n",
    "    from google.colab import auth\n",
    "\n",
    "    auth.authenticate_user()"
   ]
  },
  {
   "cell_type": "markdown",
   "metadata": {
    "id": "jUPbl4IFLmC2"
   },
   "source": [
    "### Enable APIs\n",
    "\n",
    "Run the following to enable APIs for Compute Engine, Vertex AI, Cloud Storage and BigQuery with this Google Cloud project."
   ]
  },
  {
   "cell_type": "code",
   "execution_count": 4,
   "metadata": {
    "id": "qGf0qMMQNond",
    "tags": []
   },
   "outputs": [
    {
     "name": "stdout",
     "output_type": "stream",
     "text": [
      "Operation \"operations/acat.p2-1012905914094-dd0b63d3-8a93-4d7a-9497-fe31eef0da99\" finished successfully.\n"
     ]
    }
   ],
   "source": [
    "! gcloud services enable compute.googleapis.com aiplatform.googleapis.com storage.googleapis.com bigquery.googleapis.com --project {PROJECT_ID}"
   ]
  },
  {
   "cell_type": "markdown",
   "metadata": {
    "id": "8cF8rkN3Lnhq"
   },
   "source": [
    "### Set IAM permissions\n",
    "\n",
    "Also, we need to add access permissions to the default service account for using those services.\n",
    "\n",
    "- Go to [the IAM page](https://console.cloud.google.com/iam-admin/) in the Console\n",
    "- Look for the principal for default compute service account. It should look like: `<project-number>-compute@developer.gserviceaccount.com`\n",
    "- Click the edit button at right and click `ADD ANOTHER ROLE` to add `Vertex AI User`, `BigQuery User` and `Storage Admin` to the account.\n",
    "\n",
    "This will look like this:\n",
    "\n",
    "![](https://storage.googleapis.com/github-repo/img/embeddings/vs-quickstart/iam-setting.png)"
   ]
  },
  {
   "cell_type": "markdown",
   "metadata": {
    "id": "mahCxLXHMIls"
   },
   "source": [
    "## Getting Started with Vertex AI Embeddings for Text\n",
    "\n",
    "Now it's ready to get started with embeddings!"
   ]
  },
  {
   "cell_type": "markdown",
   "metadata": {
    "id": "rq07_-o0VoZD"
   },
   "source": [
    "### Data Preparation\n",
    "\n",
    "We will be using [the Stack Overflow public dataset](https://console.cloud.google.com/marketplace/product/stack-exchange/stack-overflow) hosted on BigQuery table `bigquery-public-data.stackoverflow.posts_questions`. This is a very big dataset with 23 million rows that doesn't fit into the memory. We are going to limit it to 1000 rows for this tutorial."
   ]
  },
  {
   "cell_type": "code",
   "execution_count": 5,
   "metadata": {
    "id": "snrzPsEQDH4S",
    "tags": []
   },
   "outputs": [
    {
     "data": {
      "text/html": [
       "<div>\n",
       "<style scoped>\n",
       "    .dataframe tbody tr th:only-of-type {\n",
       "        vertical-align: middle;\n",
       "    }\n",
       "\n",
       "    .dataframe tbody tr th {\n",
       "        vertical-align: top;\n",
       "    }\n",
       "\n",
       "    .dataframe thead th {\n",
       "        text-align: right;\n",
       "    }\n",
       "</style>\n",
       "<table border=\"1\" class=\"dataframe\">\n",
       "  <thead>\n",
       "    <tr style=\"text-align: right;\">\n",
       "      <th></th>\n",
       "      <th>id</th>\n",
       "      <th>title</th>\n",
       "    </tr>\n",
       "  </thead>\n",
       "  <tbody>\n",
       "    <tr>\n",
       "      <th>0</th>\n",
       "      <td>73629154</td>\n",
       "      <td>Command Line stable diffusion runs out of GPU ...</td>\n",
       "    </tr>\n",
       "    <tr>\n",
       "      <th>1</th>\n",
       "      <td>73833578</td>\n",
       "      <td>How do I handle error: couldn't find Assets.ca...</td>\n",
       "    </tr>\n",
       "    <tr>\n",
       "      <th>2</th>\n",
       "      <td>73836152</td>\n",
       "      <td>What happens with customizations when updating...</td>\n",
       "    </tr>\n",
       "    <tr>\n",
       "      <th>3</th>\n",
       "      <td>73839012</td>\n",
       "      <td>Better solution to Sync several onedrive accou...</td>\n",
       "    </tr>\n",
       "    <tr>\n",
       "      <th>4</th>\n",
       "      <td>73839127</td>\n",
       "      <td>Audio Units (AU) plugin installation fails sil...</td>\n",
       "    </tr>\n",
       "  </tbody>\n",
       "</table>\n",
       "</div>"
      ],
      "text/plain": [
       "         id                                              title\n",
       "0  73629154  Command Line stable diffusion runs out of GPU ...\n",
       "1  73833578  How do I handle error: couldn't find Assets.ca...\n",
       "2  73836152  What happens with customizations when updating...\n",
       "3  73839012  Better solution to Sync several onedrive accou...\n",
       "4  73839127  Audio Units (AU) plugin installation fails sil..."
      ]
     },
     "execution_count": 5,
     "metadata": {},
     "output_type": "execute_result"
    }
   ],
   "source": [
    "# load the BQ Table into a Pandas DataFrame\n",
    "from google.cloud import bigquery\n",
    "\n",
    "QUESTIONS_SIZE = 1000\n",
    "\n",
    "bq_client = bigquery.Client(project=PROJECT_ID)\n",
    "QUERY_TEMPLATE = \"\"\"\n",
    "        SELECT distinct q.id, q.title\n",
    "        FROM (SELECT * FROM `bigquery-public-data.stackoverflow.posts_questions`\n",
    "        where Score > 0 ORDER BY View_Count desc) AS q\n",
    "        LIMIT {limit} ;\n",
    "        \"\"\"\n",
    "query = QUERY_TEMPLATE.format(limit=QUESTIONS_SIZE)\n",
    "query_job = bq_client.query(query)\n",
    "rows = query_job.result()\n",
    "df = rows.to_dataframe()\n",
    "\n",
    "# examine the data\n",
    "df.head()"
   ]
  },
  {
   "cell_type": "markdown",
   "metadata": {
    "id": "j6022U1FWzpb"
   },
   "source": [
    "### Call the API to generate embeddings\n",
    "\n",
    "With the Stack Overflow dataset, we will use the `title` column (the question title) and generate embedding for it with Embeddings for Text API. The API is available under the [vertexai](https://cloud.google.com/python/docs/reference/aiplatform/latest/vertexai) package of the SDK.\n",
    "\n",
    "You may see some warning messages from the TensorFlow library but you can ignore them."
   ]
  },
  {
   "cell_type": "code",
   "execution_count": 6,
   "metadata": {
    "id": "pY8M4DqO8wGx",
    "tags": []
   },
   "outputs": [],
   "source": [
    "# init the vertexai package\n",
    "import vertexai\n",
    "\n",
    "vertexai.init(project=PROJECT_ID, location=LOCATION)"
   ]
  },
  {
   "cell_type": "markdown",
   "metadata": {
    "id": "jrG82n-y-EC5"
   },
   "source": [
    "From the package, import [TextEmbeddingModel](https://cloud.google.com/python/docs/reference/aiplatform/latest/vertexai.language_models.TextEmbeddingModel) and get a model."
   ]
  },
  {
   "cell_type": "code",
   "execution_count": 7,
   "metadata": {
    "id": "YVLHjSeOGoTu",
    "tags": []
   },
   "outputs": [],
   "source": [
    "# Load the text embeddings model\n",
    "from vertexai.language_models import TextEmbeddingModel\n",
    "\n",
    "model = TextEmbeddingModel.from_pretrained(\"text-embedding-004\")"
   ]
  },
  {
   "cell_type": "markdown",
   "metadata": {
    "id": "FqdVsgZDb_hc"
   },
   "source": [
    "In this tutorial we will use `text-embedding-004` model for getting text embeddings. Please take a look at [Supported models](https://cloud.google.com/vertex-ai/docs/generative-ai/embeddings/get-text-embeddings#supported_models) on the doc to see the list of supported models.\n",
    "\n",
    "Once you get the model, you can call its [get_embeddings](https://cloud.google.com/python/docs/reference/aiplatform/latest/vertexai.language_models.TextEmbeddingModel#vertexai_language_models_TextEmbeddingModel_get_embeddings) function to get embeddings. You can pass up to 5 texts at once in a call. But there is a caveat. By default, the text embeddings API has a \"request per minute\" quota set to 60 for new Cloud projects and 600 for projects with usage history (see [Quotas and limits](https://cloud.google.com/vertex-ai/docs/quotas#request_quotas) to check the latest quota value for `base_model:textembedding-gecko`). So, rather than using the function directly, you may want to define a wrapper like below to limit under 10 calls per second, and pass 5 texts each time."
   ]
  },
  {
   "cell_type": "code",
   "execution_count": 8,
   "metadata": {
    "id": "8HUb9u_P2VWW",
    "tags": []
   },
   "outputs": [],
   "source": [
    "import time\n",
    "\n",
    "import tqdm  # to show a progress bar\n",
    "\n",
    "# get embeddings for a list of texts\n",
    "BATCH_SIZE = 5\n",
    "\n",
    "\n",
    "def get_embeddings_wrapper(texts):\n",
    "    embs = []\n",
    "    for i in tqdm.tqdm(range(0, len(texts), BATCH_SIZE)):\n",
    "        time.sleep(1)  # to avoid the quota error\n",
    "        result = model.get_embeddings(texts[i : i + BATCH_SIZE])\n",
    "        embs = embs + [e.values for e in result]\n",
    "    return embs"
   ]
  },
  {
   "cell_type": "markdown",
   "metadata": {
    "id": "aK4eTSPfcEuh"
   },
   "source": [
    "The following code will get embedding for the question titles and add them as a new column `embedding` to the DataFrame. This will take a few minutes."
   ]
  },
  {
   "cell_type": "code",
   "execution_count": 9,
   "metadata": {
    "id": "FcqPvu4PluN1",
    "tags": []
   },
   "outputs": [
    {
     "name": "stderr",
     "output_type": "stream",
     "text": [
      "100%|██████████| 200/200 [03:39<00:00,  1.10s/it]\n"
     ]
    },
    {
     "data": {
      "text/html": [
       "<div>\n",
       "<style scoped>\n",
       "    .dataframe tbody tr th:only-of-type {\n",
       "        vertical-align: middle;\n",
       "    }\n",
       "\n",
       "    .dataframe tbody tr th {\n",
       "        vertical-align: top;\n",
       "    }\n",
       "\n",
       "    .dataframe thead th {\n",
       "        text-align: right;\n",
       "    }\n",
       "</style>\n",
       "<table border=\"1\" class=\"dataframe\">\n",
       "  <thead>\n",
       "    <tr style=\"text-align: right;\">\n",
       "      <th></th>\n",
       "      <th>id</th>\n",
       "      <th>title</th>\n",
       "      <th>embedding</th>\n",
       "    </tr>\n",
       "  </thead>\n",
       "  <tbody>\n",
       "    <tr>\n",
       "      <th>0</th>\n",
       "      <td>73629154</td>\n",
       "      <td>Command Line stable diffusion runs out of GPU ...</td>\n",
       "      <td>[0.01807846873998642, -0.04773759841918945, -0...</td>\n",
       "    </tr>\n",
       "    <tr>\n",
       "      <th>1</th>\n",
       "      <td>73833578</td>\n",
       "      <td>How do I handle error: couldn't find Assets.ca...</td>\n",
       "      <td>[0.028957651928067207, -0.03578248992562294, 0...</td>\n",
       "    </tr>\n",
       "    <tr>\n",
       "      <th>2</th>\n",
       "      <td>73836152</td>\n",
       "      <td>What happens with customizations when updating...</td>\n",
       "      <td>[0.03485855832695961, 0.009320320561528206, -0...</td>\n",
       "    </tr>\n",
       "    <tr>\n",
       "      <th>3</th>\n",
       "      <td>73839012</td>\n",
       "      <td>Better solution to Sync several onedrive accou...</td>\n",
       "      <td>[0.07941311597824097, -0.025833120569586754, -...</td>\n",
       "    </tr>\n",
       "    <tr>\n",
       "      <th>4</th>\n",
       "      <td>73839127</td>\n",
       "      <td>Audio Units (AU) plugin installation fails sil...</td>\n",
       "      <td>[0.009521933272480965, -0.02353489212691784, 0...</td>\n",
       "    </tr>\n",
       "  </tbody>\n",
       "</table>\n",
       "</div>"
      ],
      "text/plain": [
       "         id                                              title  \\\n",
       "0  73629154  Command Line stable diffusion runs out of GPU ...   \n",
       "1  73833578  How do I handle error: couldn't find Assets.ca...   \n",
       "2  73836152  What happens with customizations when updating...   \n",
       "3  73839012  Better solution to Sync several onedrive accou...   \n",
       "4  73839127  Audio Units (AU) plugin installation fails sil...   \n",
       "\n",
       "                                           embedding  \n",
       "0  [0.01807846873998642, -0.04773759841918945, -0...  \n",
       "1  [0.028957651928067207, -0.03578248992562294, 0...  \n",
       "2  [0.03485855832695961, 0.009320320561528206, -0...  \n",
       "3  [0.07941311597824097, -0.025833120569586754, -...  \n",
       "4  [0.009521933272480965, -0.02353489212691784, 0...  "
      ]
     },
     "execution_count": 9,
     "metadata": {},
     "output_type": "execute_result"
    }
   ],
   "source": [
    "# get embeddings for the question titles and add them as \"embedding\" column\n",
    "df = df.assign(embedding=get_embeddings_wrapper(list(df.title)))\n",
    "df.head()"
   ]
  },
  {
   "cell_type": "markdown",
   "metadata": {
    "id": "nB53SiJjVN6e"
   },
   "source": [
    "## Look at the embedding similarities\n",
    "\n",
    "Let's see how these embeddings are organized in the embedding space with their meanings by quickly calculating the similarities between them and sorting them.\n",
    "\n",
    "As embeddings are vectors, you can calculate similarity between two embeddings by using one of the popular metrics like the followings:\n",
    "\n",
    "![](https://storage.googleapis.com/github-repo/img/embeddings/textemb-vs-notebook/8.png)\n",
    "\n",
    "Which metric should we use? Usually it depends on how each model is trained. In case of the model `text-embedding-004`, we need to use inner product (dot product).\n",
    "\n",
    "In the following code, it picks up one question randomly and uses the numpy `np.dot` function to calculate the similarities between the question and other questions."
   ]
  },
  {
   "cell_type": "code",
   "execution_count": 10,
   "metadata": {
    "id": "lKs6jSu7NiM6",
    "tags": []
   },
   "outputs": [
    {
     "data": {
      "text/plain": [
       "array([0.31142537, 0.32762209, 0.29821076, 0.3087588 , 0.31935536])"
      ]
     },
     "execution_count": 10,
     "metadata": {},
     "output_type": "execute_result"
    }
   ],
   "source": [
    "import random\n",
    "\n",
    "import numpy as np\n",
    "\n",
    "# pick one of them as a key question\n",
    "key = random.randint(0, len(df))\n",
    "\n",
    "# calc dot product between the key and other questions\n",
    "embs = np.array(df.embedding.to_list())\n",
    "similarities = np.dot(embs[key], embs.T)\n",
    "\n",
    "# print similarities for the first 5 questions\n",
    "similarities[:5]"
   ]
  },
  {
   "cell_type": "markdown",
   "metadata": {
    "id": "srM04lJBQp4w"
   },
   "source": [
    "Finally, sort the questions with the similarities and print the list."
   ]
  },
  {
   "cell_type": "code",
   "execution_count": 11,
   "metadata": {
    "id": "lTUVvj9FQlab",
    "tags": []
   },
   "outputs": [
    {
     "name": "stdout",
     "output_type": "stream",
     "text": [
      "Key question: AWS: How to find out minimum required IAM permissions for GitHub Actions integration\n",
      "\n",
      "1.0000 AWS: How to find out minimum required IAM permissions for GitHub Actions integration\n",
      "0.5923 GitHub Action - Failed to restart XXX.service: Interactive authentication required\n",
      "0.5741 AWS SSO, Codecommit (GRC git clone link) and npm install\n",
      "0.5522 How can I set github action job output using conditional logic in my step?\n",
      "0.5477 Amazon RDS: unable to grant permission to new role\n",
      "0.5068 How do I run playwright targeting localhost in github-actions?\n",
      "0.4992 Permission denied (publickey) trying to SSH into CircleCI job\n",
      "0.4971 App testers on internal testing track can't use app actions\n",
      "0.4920 After deleting and re-creating a GitHub repository, the default token can no longer publish container images\n",
      "0.4724 How I get source code of aws sdk version 2\n",
      "0.4672 How to allow the login to the user which is created by admin in the aws-cognito user pool\n",
      "0.4600 Flink kubernetes deployment - how to provide S3 credentials from Hashicorp Vault?\n",
      "0.4530 Cloudformation Registry not creating log groups when submitting private resource type\n",
      "0.4519 Cannot find the Verifiable Credentials Service Request service principal while creating an access policy\n",
      "0.4516 Connecting to Heroku Postgres from Auth0 results in: err no pg_hba.conf entry for host, no encryption\n",
      "0.4478 set_glue_version exception after upgrading aws-glue-sessions\n",
      "0.4468 GitLab yaml issues with $CI_COMMIT_REF_NAME\n",
      "0.4435 Golang: AWS Lambda: Fails finding spf13/viper config file: Config File \"<config-file-name>\" Not Found in \"[/var/task /var/config]\"\n",
      "0.4370 Unexpected status checks showing on Pull Requests\n",
      "0.4316 Triggering jobs with specific branch names( pattern) in azure devops\n"
     ]
    }
   ],
   "source": [
    "# print the question\n",
    "print(f\"Key question: {df.title[key]}\\n\")\n",
    "\n",
    "# sort and print the questions by similarities\n",
    "sorted_questions = sorted(\n",
    "    zip(df.title, similarities), key=lambda x: x[1], reverse=True\n",
    ")[:20]\n",
    "for i, (question, similarity) in enumerate(sorted_questions):\n",
    "    print(f\"{similarity:.4f} {question}\")"
   ]
  },
  {
   "cell_type": "markdown",
   "metadata": {
    "id": "S75SQzAg1wHV"
   },
   "source": [
    "# Find embeddings fast with Vertex AI Vector Search\n",
    "\n",
    "As we have explained above, you can find similar embeddings by calculating the distance or similarity between the embeddings.\n",
    "\n",
    "But this isn't easy when you have millions or billions of embeddings. For example, if you have 1 million embeddings with 768 dimensions, you need to repeat the distance calculations for 1 million x 768 times. This would take some seconds - too slow."
   ]
  },
  {
   "cell_type": "markdown",
   "metadata": {
    "id": "0sjhTy-a47YH"
   },
   "source": [
    "So the researchers have been studying a technique called [Approximate Nearest Neighbor (ANN)](https://en.wikipedia.org/wiki/Nearest_neighbor_search) for faster search. ANN uses \"vector quantization\" for separating the space into multiple spaces with a tree structure. This is similar to the index in relational databases for improving the query performance, enabling very fast and scalable search with billions of embeddings.\n",
    "\n",
    "With the rise of LLMs, the ANN is getting popular quite rapidly, known as the Vector Search technology.\n",
    "\n",
    "![](https://storage.googleapis.com/gweb-cloudblog-publish/images/7._ANN.1143068821171228.max-2200x2200.png)\n",
    "\n",
    "In 2020, Google Research published a new ANN algorithm called [ScaNN](https://ai.googleblog.com/2020/07/announcing-scann-efficient-vector.html). It is considered one of the best ANN algorithms in the industry, also the most important foundation for search and recommendation in major Google services such as Google Search, YouTube and many others.\n"
   ]
  },
  {
   "cell_type": "markdown",
   "metadata": {
    "id": "xVOL8BgM2isz"
   },
   "source": [
    "## What is Vertex AI Vector Search?\n",
    "\n",
    "Google Cloud developers can take the full advantage of Google's vector search technology with [Vertex AI Vector Search](https://cloud.google.com/vertex-ai/docs/vector-search/overview) (previously called Matching Engine). With this fully managed service, developers can just add the embeddings to its index and issue a search query with a key embedding for the blazingly fast vector search. In the case of the Stack Overflow demo, Vector Search can find relevant questions from 8 million embeddings in tens of milliseconds.\n",
    "\n",
    "![](https://storage.googleapis.com/github-repo/img/embeddings/textemb-vs-notebook/9.png)\n",
    "\n",
    "With Vector Search, you don't need to spend much time and money building your own vector search service from scratch or using open source tools if your goal is high scalability, availability and maintainability for production systems."
   ]
  },
  {
   "cell_type": "markdown",
   "metadata": {
    "id": "uBt8tjidSzyU"
   },
   "source": [
    "## Get Started with Vector Search\n",
    "\n",
    "When you already have the embeddings, then getting started with Vector Search is pretty easy. In this section, we will follow the steps below.\n",
    "\n",
    "### Setting up Vector Search\n",
    "- Save the embeddings in JSON files on Cloud Storage\n",
    "- Build an Index\n",
    "- Create an Index Endpoint\n",
    "- Deploy the Index to the endpoint\n",
    "\n",
    "### Use Vector Search\n",
    "\n",
    "- Query with the endpoint\n",
    "\n",
    "### **Tip for Colab users**\n",
    "\n",
    "If you use Colab for this tutorial, you may lose your runtime while you are waiting for the Index building and deployment in the later sections as it takes tens of minutes. In that case, run the following sections again with the new instance to recover the runtime: [Install Python SDK, Environment variables and Authentication](https://colab.research.google.com/drive/1xJhLFEyPqW0qvKiERD6aYgeTHa6_U50N?resourcekey=0-2qUkxckCjt6W03AsqvZHhw#scrollTo=AtXnXhF8U-8R&line=9&uniqifier=1).\n",
    "\n",
    "Then, use the [Utilities](https://colab.research.google.com/drive/1xJhLFEyPqW0qvKiERD6aYgeTHa6_U50N?resourcekey=0-2qUkxckCjt6W03AsqvZHhw#scrollTo=BE1tELsH-u8N&line=1&uniqifier=1) to recover the Index and Index Endpoint and continue with the rest."
   ]
  },
  {
   "cell_type": "markdown",
   "metadata": {
    "id": "6pu1a3zjfQ0D"
   },
   "source": [
    "### Save the embeddings in a JSON file\n",
    "To load the embeddings to Vector Search, we need to save them in JSON files with JSONL format. See more information in the docs at [Input data format and structure](https://cloud.google.com/vertex-ai/docs/matching-engine/match-eng-setup/format-structure#data-file-formats).\n",
    "\n",
    "First, export the `id` and `embedding` columns from the DataFrame in JSONL format, and save it."
   ]
  },
  {
   "cell_type": "code",
   "execution_count": 12,
   "metadata": {
    "id": "GzZ30d4j_uLU",
    "tags": []
   },
   "outputs": [
    {
     "name": "stdout",
     "output_type": "stream",
     "text": [
      "{\"id\":73629154,\"embedding\":[0.0180784687,-0.0477375984,-0.094141148,0.0347357094,0.0389007293,0.0064121559,0.0591958575,-0.0295575056,-0.0090282531,-0.0260904059,-0.0340172946,0.0535430945,0.0059024231,0.0144810481,0.0019004832,-0.0421461537,0.0723747164,0.0186759979,-0.0217222385,0.0313081443,-0.0012486716,-0.0566027574,-0.040217001,-0.0406933054,-0.048548419,-0.0030270978,0.0386512205,-0.0447642133,0.0046721557,-0.058889892,0.0605144314,0.0376760773,0.0727599412,0.0218802504,0.0111803068,-0.0086411256,-0.0391325913,0.0896027982,-0.0466057695,-0.0591107458,-0.0693437681,-0.0915031135,0.0216990225,0.04592219,-0.0327213779,0.0267542563,0.0247046202,0.0653773025,0.0232747477,-0.0159322321,0.0192777459,0.029861154,-0.0176301841,-0.0176382512,-0.0339646041,0.0154602844,0.004019354,0.0230506565,0.1363988817,-0.0374152288,0.0348707512,-0.0199817028,0.0194556322,-0.0309133511,-0.0105613349,-0.0513567924,-0.0003779567,0.0069654319,-0.0429836698,0.0131772049,0.0196600705,-0.0026707002,-0.021404691,-0.0115405526,0.0351860709,0.0079676714,-0.0192719381,0.0146958744,0.0588763095,0.0223926995,-0.0036316107,-0.0002928195,0.0392499045,0.0350191332,-0.0092338696,0.0556682236,0.0370127298,-0.0376583971,-0.0636392757,0.0335907191,0.1053619757,-0.0171967763,0.0438625999,0.001019396,-0.0069631408,-0.0490374491,-0.0220516827,-0.1260334253,-0.040753454,-0.0010310144,-0.0130018303,0.0094383722,-0.029367242,-0.0442112796,0.0698514208,0.0439674295,-0.0507233739,-0.0565637574,-0.046799358,0.032250572,0.0054951888,-0.0374952927,0.0836860389,0.0286063775,-0.0190955717,-0.0020915137,-0.0090683857,-0.011692971,0.0405225977,0.0012211843,0.0162266474,0.0122047774,-0.01047731,0.0350217037,0.0115936818,0.0123354811,-0.0013020447,-0.018691808,0.0171935465,-0.0356648862,0.0037655351,0.0099947527,-0.006897721,0.0764794126,0.0309443139,0.0461189523,0.0037509974,0.0143870609,-0.0037485017,0.0544328801,0.0022976049,-0.0246020146,-0.0178464875,-0.0399105474,-0.0205388814,-0.0128342342,-0.0260276608,0.0423541032,0.0364387445,0.0409998633,-0.0527780242,-0.0107798073,-0.0099895559,0.0617421083,-0.0417342819,-0.0075574815,0.0209591892,-0.058824759,0.0549275689,0.0385028906,-0.0161048993,-0.007520054,0.0035924348,0.029688796,0.0496993214,0.0127803124,-0.0013472503,0.0151239801,0.0193927605,0.100140512,0.0511433817,-0.0245924033,-0.0119806817,0.0080348486,-0.0000311132,0.0135665676,-0.0012003502,0.072580941,-0.0114958733,0.0529281311,0.0756261647,0.0553277843,-0.0582294501,-0.073227711,0.0520785861,0.0232492983,-0.0183391385,-0.0143532604,0.0252168085,0.0055484399,-0.0019938988,-0.0102375736,0.0122553902,-0.035033673,-0.0209508855,-0.0432085246,0.0323267393,-0.0399728604,0.0212707147,-0.0691400021,0.0395026654,0.0121320384,0.0150267454,0.0495500341,-0.042487435,0.0224006865,-0.0322301053,-0.0353203826,0.0541327968,-0.0013756261,-0.071896553,-0.014152213,0.0044805398,-0.0178145245,0.0104240077,0.0268671308,0.0567537025,-0.0129471337,-0.0813605711,-0.0124328462,-0.0425768718,-0.0158023424,0.0368242227,0.0095256148,0.0425620042,-0.0220643468,-0.0293105654,0.065843083,-0.0250628255,-0.0608837046,0.0358688124,0.0111720851,-0.0339558087,-0.0258911643,-0.0057639265,0.0194774419,0.0215947311,0.022041576,0.0013741631,-0.0054554525,-0.0691596344,0.0769789219,0.0132220387,0.0654698387,0.0426911972,0.0224677678,-0.0351510346,0.0338994078,-0.0849119276,-0.039973896,-0.0066684769,0.0024101452,0.0065214746,0.0424269438,-0.0141185597,-0.0834857076,0.056927219,-0.0142347515,-0.0585081764,0.0314400904,0.0260627288,-0.0162229985,0.0206998084,-0.0550273396,-0.0131557798,-0.0421096645,-0.0243343413,-0.0610197335,0.0534537956,0.0186511669,0.1142636612,0.004138425,-0.0580522045,-0.0350805894,-0.0503743812,0.0123768281,-0.0165282432,-0.0363406502,0.0384674631,0.002303414,-0.0196249355,0.0120298397,0.0149511276,-0.0104890708,0.0338930897,-0.0019649307,-0.0405391753,0.0404934585,0.0226684529,-0.0727962628,0.0454824455,0.0469803922,-0.0398140475,-0.1497466862,0.0081613446,-0.0450321175,0.0223334134,-0.0021879287,-0.0110767111,0.0003923767,-0.0196277201,0.0856997594,0.0019690688,0.0964788646,0.0309866946,0.0435383208,-0.0182443652,-0.0133638168,-0.0226135571,0.0190608818,0.0556094274,0.005365327,-0.020647902,-0.0245485436,0.0108538205,0.0149777858,-0.0212733373,0.0329593457,0.0123472875,0.0171296466,-0.024385795,0.0179540068,-0.0346370563,0.0118083665,0.0093550133,-0.0298342612,0.0270737298,-0.004019618,0.0417561904,0.0019098785,0.0506374687,0.0309057217,0.0309251528,-0.0252141841,0.0059449887,0.0223003682,-0.0159002189,0.0552790277,0.0556908175,0.0393356122,0.0278565083,0.017775584,0.016153587,0.0512031764,-0.0360705592,-0.0070805885,0.0256901029,-0.0010862519,-0.0120863803,-0.025473563,-0.0014273867,-0.0373067185,0.0180295631,-0.0135954367,-0.0005832426,0.0248543564,0.0626565292,0.0049126456,0.0508820377,-0.0126413442,-0.002470179,-0.0021948623,0.0054360745,0.0231215972,0.0023201795,0.0113610597,0.0362401791,-0.0071410434,-0.0714150518,0.0072944849,-0.0267611109,0.0230627507,0.0012475114,0.0327504165,0.0471287668,-0.0390131101,-0.018012872,0.0217096023,0.0242682248,0.0547334477,0.0264255702,0.0217243209,-0.0448704287,0.0401787609,0.0097849732,0.0023106027,-0.0255334321,0.0140046673,-0.0168512724,0.0030877253,-0.0197928939,0.0508798249,-0.0093909549,0.0059819878,-0.0219576359,0.0094349682,0.022018861,0.0868686289,-0.0068909624,-0.0345797874,-0.0087491916,-0.029917229,0.0526630096,-0.040082708,0.0117914602,-0.0112248519,-0.0289582312,0.0310602095,0.0420587733,0.0470508821,-0.0007745022,-0.0279369522,0.016055977,0.0524500087,0.0002941077,0.0238807555,-0.0191449709,-0.0307831969,-0.0364544094,-0.0090562161,-0.0236276407,-0.0268009529,0.0167679396,0.0044783857,-0.0049023074,-0.0853793323,0.0043066791,-0.0569541752,0.0282043815,0.0212766286,-0.0005995798,-0.0061835814,-0.0833621472,-0.006035768,0.008332504,0.0125776809,0.0216940232,-0.0251710303,0.0756641477,0.0221245103,0.0281499512,0.0037698608,0.0510886423,0.0622601211,-0.0268627312,0.046374999,0.0539693683,0.0485052504,0.0499669239,-0.0099497531,0.0178828761,0.0286939144,0.0328207873,-0.0292896517,-0.0407801643,0.0315609463,0.0143264672,0.0377615727,-0.0210910998,-0.012852136,-0.014173205,-0.0336090513,0.0053452193,0.0257473718,0.0023152113,-0.0237296149,0.0268797558,0.0452186503,0.0455419496,0.0495879464,0.0021575473,0.0017042499,0.017030878,-0.0405052826,-0.0561519824,0.0040995548,0.0513804667,0.0270512085,-0.0147531228,-0.0390730686,-0.0068648513,0.0104350112,-0.0371741094,0.0211283956,0.0264333896,0.0505599678,-0.0643158183,0.0538703091,-0.0035857547,-0.0085293734,0.0058494578,-0.0301253274,-0.0679496229,-0.0390030295,0.0441936068,0.0057029766,0.006541783,-0.0253252219,-0.0132483598,0.0189391896,-0.0231611542,0.0099373888,0.0131024439,-0.0488338843,-0.0058082491,-0.0237614736,0.0001391031,-0.0077432487,0.0026381055,0.029519761,0.0449099392,-0.0362037346,-0.0472122952,0.0584391765,-0.0338650197,-0.0189225506,0.014922414,-0.0253050271,-0.0814038217,-0.0315164588,-0.0737557486,-0.0316781215,0.0590838268,-0.0156078096,-0.0143322479,-0.0260350108,0.0280066971,0.0374586955,0.0115369419,-0.0352796949,-0.0056486782,0.0021392589,0.0016854815,-0.0166343823,-0.0285576414,0.0636922121,-0.004315244,0.0524384119,-0.0048237932,0.0290213376,0.017902635,-0.0258389097,0.0392899401,0.0301647186,0.052685529,-0.005424242,0.0514455289,0.0390141755,-0.0019603521,0.0655156448,-0.0325992852,0.0013973744,-0.0122791668,-0.0193483178,0.0497170016,0.0472482331,0.0615751222,0.0322031565,0.0030458875,0.0213334709,0.0071544945,-0.0065545794,-0.0066267168,0.005528593,0.0412988625,-0.0154304365,-0.012231092,0.0239200965,-0.025760252,-0.0226732548,-0.0775756016,-0.0563545451,0.0197934192,-0.0223135017,-0.0688635334,0.01847619,-0.0543922894,0.0029033972,0.0628176704,0.0012231864,-0.0221038479,0.0049910457,0.017358955,-0.0040989062,0.0049729878,-0.0132276919,0.066129826,-0.0218022764,0.008880659,0.0060248529,-0.0234087892,-0.0304095745,-0.0018940334,-0.0211163554,-0.0633613169,0.0329872593,-0.049915839,0.0051608058,-0.0132372752,0.0005132853,0.0278568789,-0.068020694,0.0171110146,0.0486732237,-0.0191636253,-0.0254715029,-0.0140427891,-0.0069334693,0.0125419125,-0.0064464496,0.0619313084,-0.0095376,0.0047532353,-0.0038764765,-0.0885312781,0.0032140482,-0.0309683401,-0.0263487548,-0.00454923,-0.0630256683,-0.0148622645,0.0099507757,-0.073054567,0.0693183839,-0.0449374802,0.0034181371,0.0155352578,0.0042901728,0.070203729,0.0367402434,-0.0010432109,0.0551235303,0.0187746976,-0.0489988029,-0.0401306264,0.0174542889,0.0607634,0.0445170589,-0.0237898566,0.0100111458,0.0605379082,-0.0150934802,0.0206150711,-0.0047849994,-0.0322599635,-0.0087682307,-0.0152174477,-0.0290415566,0.0148810362,0.0391145125,0.0114455698,-0.0222296566,-0.0166796204,0.0523465648,-0.0585998818,-0.0325302295,-0.03956661,0.0260337293,-0.0116439126,-0.0190739017,0.013554574,0.0100925285,0.0073371651,-0.0146070207,0.014507236,0.0211711247,0.064822726,0.0201048292,0.0008771914,0.0016782718,0.0378068984,0.0241191592,0.0192072839,0.0474487245,-0.0490857884,-0.0125336414,0.0181584563,0.0342507251,-0.0154919373,0.0111977197,0.003629718,-0.004431868,0.0027803837,-0.0044274465,0.0144066531,0.0234787222,0.0331241935,-0.038975466,-0.0334375761,-0.0750265494,-0.0071934373,0.0191039685,-0.0387843698,-0.0006095547,-0.0041414374,-0.0120603945,0.0025835754,0.0167548116,0.0039589391,-0.0195067283,0.0066679558,0.0004294752,-0.0400877893,-0.003205678,0.0178391971,0.0039656949,0.0021185684,0.0127062341,-0.0015251385,0.058876127,-0.0625337288,0.0228227731,-0.0171790663,0.0182991251,0.0171587653,0.0221218374,0.0165560227,0.0224854574,0.0395586975,0.036256589,-0.0024172137,-0.0119616911,0.0168956779,0.0181687195,0.0206340291,0.0316612273,-0.0063444246,-0.0223235376,-0.0230473056,0.0191117525,0.0312851965,-0.0362286977,-0.0629737154,0.0170697179,-0.018395653,-0.0195607245,0.038561061,-0.0185804069,0.0359026901,0.0162790976,0.0123743862,-0.0450845324,-0.0524750464,0.0182754174,-0.0570483692,0.0037198137,-0.0034282114,0.0223976821,-0.0203622542,-0.0832677037,-0.0968218222,0.0148921916,-0.0018832387,0.0507354736,-0.0226663444,-0.044956658,-0.0113086402,-0.0290015303,0.0167745203,0.0319335572,-0.0024927952,0.0643648952,-0.0309356563,-0.0005066766,-0.0623492077,-0.0145087466,0.0303271767,-0.0024420323]}\n",
      "{\"id\":73833578,\"embedding\":[0.0289576519,-0.0357824899,0.0649975985,0.0004646396,0.0495598428,-0.0105952369,0.0328230411,0.0060534803,0.0233969707,0.0358793922,-0.0326780863,-0.0042942152,0.0599608012,-0.0333706178,0.0016908017,-0.0405841284,0.0759923235,0.0132572064,0.02814929,0.0170617085,0.0319200978,-0.0079672048,0.0288492721,-0.0315906256,-0.0476769693,-0.0379671603,0.0301081184,0.0208130069,0.0542215668,-0.0245171487,0.0553555116,0.0096056229,-0.0306453872,0.0765693933,-0.0122681027,-0.0381158516,-0.0382695682,0.0330323093,0.0446280651,-0.022948809,-0.0943272263,0.0284552015,0.0198314302,-0.014096844,-0.0266750213,0.0460216999,-0.0249313805,0.0778976455,-0.0329241194,-0.0239781309,-0.0152520202,-0.0157214068,-0.1073677763,-0.000565293,-0.0129305935,-0.0261279289,-0.01096748,0.0037754385,0.0204688385,-0.0386922024,-0.0148874121,0.0439655967,-0.0216870364,0.0094782533,0.0145769613,-0.0219429377,0.0094250469,-0.0226823539,-0.0274410304,0.0367793813,-0.0440588705,-0.0178031344,-0.0221720189,0.001330997,0.0153847374,-0.0688217506,0.0121505158,-0.0047637364,0.0348193012,0.0177425295,0.0463768989,-0.0311748832,0.0077127828,0.0189146046,-0.0020631964,-0.0037680238,-0.0862135366,0.0520950556,-0.0228451658,-0.0345373861,0.0836281031,0.0348828658,0.025631154,0.0139741842,0.0431371927,-0.0251708161,-0.1361303777,-0.037666034,0.0124533968,-0.052581761,-0.0675508007,0.0451237969,-0.0158673357,-0.080517143,0.0483098514,0.0451073796,-0.0091815954,0.0068014963,-0.0316023491,0.0024332094,0.0035454456,0.0366030298,0.0125701027,-0.0046231076,-0.0490327477,-0.0185255222,0.0336004831,0.0032059227,-0.0373706184,-0.0034014217,-0.0228060335,0.0407699272,0.0172027238,0.0406237729,0.0458578616,0.0842220038,0.0586828403,0.0047327662,-0.048655618,-0.0101247514,0.0243719202,-0.0044168648,-0.0506662242,0.0132732838,0.008451229,-0.04351753,0.0055585545,0.0254150759,0.056530226,0.038549874,-0.0601032898,-0.02908656,-0.1170595214,-0.0200850386,0.0192927569,0.0017598772,0.0381470546,0.0871068463,0.0162640568,0.0182577223,-0.0551204383,-0.0246006064,-0.007254052,0.0173021816,-0.0182269663,-0.0251470618,-0.0211017653,0.0087902443,0.0125239938,-0.0326672792,0.0569606796,-0.0057443958,0.0257361792,0.0337445736,0.0555091687,0.0390798673,-0.0234691147,-0.0098167593,-0.012944431,0.0133803375,-0.0045734434,-0.0333600231,-0.0110314572,0.0224431325,-0.0280041546,-0.0236857459,0.0056437422,0.0502209328,-0.0567817353,0.0022409137,0.0850557908,0.043485906,-0.0133205829,-0.0805099383,-0.004610627,0.020947488,-0.0258195046,0.0427573174,0.0589848757,0.0085792765,0.0135873975,-0.0185417235,0.0566229746,0.0149770034,-0.0468131639,0.0439377017,0.001221805,-0.0376185179,-0.0127458684,0.0332559831,0.0938901454,-0.0045039956,0.0162615869,-0.1007812172,-0.0045583881,-0.0470976904,0.0007107125,-0.0322937332,-0.0179478992,-0.0274085458,-0.0411671102,-0.0082365945,0.0177256688,-0.0238286015,-0.0124086281,0.0403695144,0.0224080905,0.0167812277,0.0203543771,0.0022151137,0.0389995202,0.0083165187,0.0340657048,0.0440872125,0.0193272699,-0.0178985503,-0.0519146919,-0.0072884196,0.0292559806,0.0235168431,0.034601599,0.0538281836,-0.0175545327,0.0185488891,-0.0864141583,0.0127879977,0.0355926082,-0.0453314744,-0.0208526924,0.0262212511,-0.0197727419,-0.0392980613,-0.0187106319,0.0652219504,0.0336850397,-0.0305323154,0.0101214955,0.0197345614,0.0086318022,-0.0306368414,-0.0265428051,-0.0418223925,-0.013801205,0.002419085,-0.0595368035,-0.0463323109,0.0363727733,-0.0088362582,0.0203894135,-0.0047548981,0.0306612477,-0.034289103,0.0234964471,-0.0687151626,-0.1237973869,-0.0216467157,-0.0025160564,-0.0413674824,0.0419084467,-0.0427835286,0.0283444785,-0.0005933963,-0.0182589982,0.0061263219,0.014519765,0.0124032404,0.0189550351,-0.0423341841,-0.0005613228,0.032799989,0.0517985597,-0.0394240767,0.0185258947,-0.0310945641,0.0348081477,-0.0643774718,-0.0404342599,0.0015172247,0.035344094,-0.0045387638,0.0325410999,0.0887259543,-0.0158268828,-0.0734632462,0.0015169809,-0.0097938217,0.0128539624,-0.0327042677,0.0201914608,-0.0584500395,0.040815752,0.0543756001,-0.0066259229,0.0660116151,-0.0037717468,0.0187972058,-0.01741568,-0.0145781422,0.006454349,-0.0612935163,0.0548225343,0.0357943885,0.0020729608,-0.0061767944,0.0357592627,0.0084257331,-0.0237728208,0.0052556377,0.0216229204,-0.0117042353,0.017723335,-0.0033986166,0.0062437421,-0.0025953946,-0.0309994388,-0.0016307841,-0.015564464,-0.0128735639,0.0255814139,-0.000998789,0.0154530033,-0.012114658,-0.0360652953,-0.0221485961,-0.0333867297,0.0450752527,-0.0435997881,0.0440355502,0.0600500144,0.0753296763,0.0616482794,0.0696400404,-0.0045461012,-0.0109229749,0.0210699663,-0.0344699211,0.039461799,0.0237536412,-0.0160854124,-0.0288473181,0.0123843243,0.0335781798,-0.0045552622,0.012740667,-0.0421126448,-0.0401593484,0.079170607,-0.0261349641,0.0593669973,-0.0200952087,-0.0391864032,0.0508570932,0.0074527771,0.0294292979,0.0128399199,-0.0070864381,0.044722639,0.0581078865,-0.0109454822,-0.0167662669,0.0253729988,-0.0283213817,0.0114918035,0.042877648,0.0175681021,0.007488397,0.0056916098,0.0133245103,0.0148502057,0.0045666229,0.0390969552,0.0120756803,0.0178412069,0.0046370747,-0.0324849412,0.0487721749,-0.0689878836,-0.0212574247,0.0147761889,-0.0426034629,-0.0557645783,0.0824661776,-0.0299398508,0.0161562748,-0.027082175,-0.0049148235,-0.0083241891,0.0292670578,0.0202162992,0.0293285511,0.0022016279,-0.015827585,0.0080620674,-0.001603648,0.003819596,-0.0831099153,0.0290397834,-0.0121965306,-0.0339352563,0.0279426798,-0.0002434473,0.0052367798,-0.0550776385,0.038845852,0.0270458814,-0.0451590717,0.0530976579,-0.0026015686,0.0106892632,-0.0290563572,-0.0077640265,0.0025328228,0.0210996047,0.0248577874,0.0012237339,-0.0232828911,-0.0018877285,-0.0450003333,0.0209535081,-0.0254711527,0.0031092225,0.0079805879,-0.0069294958,0.0138968136,0.0224974398,-0.0019141743,0.0135330288,-0.0469524115,0.0421000719,-0.0057645342,0.0601344146,-0.0085398266,0.06034429,0.0136748319,0.0008757479,0.0175425876,-0.0074774921,-0.0046946593,-0.0370998755,0.0173565596,0.0105800526,0.0183449294,0.0407802053,-0.0238269456,-0.071510829,0.0292799436,-0.0273279808,-0.0015519602,0.0056046802,-0.0268843565,0.0157663524,-0.0568579212,0.0354165472,-0.0227714088,0.0220698602,-0.0244117919,0.0115863653,-0.0210665576,0.0001561156,-0.0350418836,0.0093090804,-0.0045418437,0.0453191549,0.0432917923,-0.0089700324,0.0185756739,0.0093959849,-0.0045899251,-0.0336020291,-0.0534699187,-0.0056386413,0.040409103,-0.0126474015,0.0365412198,0.0848578513,-0.0244726464,-0.0182301421,0.0047455719,0.0103653222,-0.0080301017,-0.0208358821,-0.0102878539,-0.0692052618,-0.0590051115,0.0244925693,0.0580949523,-0.0069964835,-0.0244837422,0.0237671696,0.0308351964,-0.0034639288,0.0537479781,-0.0373552665,-0.0300171711,-0.0413113721,-0.0234337095,-0.0036672943,0.029013535,0.0146068158,0.0485387668,0.0251994617,-0.0394107923,0.0023500053,0.0193852596,-0.004454189,0.0236952715,-0.0841252357,0.0089883124,-0.0709369406,-0.0131545719,-0.0363157131,-0.0356077775,-0.0121873599,-0.0116549348,-0.0101447543,-0.0419059619,-0.006549425,0.0082741408,0.0441653654,0.0360700041,-0.0107416874,0.0577787608,0.0049527697,0.0501915738,0.0279756915,0.0787901357,0.0218692124,-0.0340049267,-0.0483921021,0.0622143596,0.012866375,-0.0837373734,-0.0024680512,-0.0229381584,0.0813718438,-0.0446198843,-0.0339375921,-0.0224510189,0.0288150646,0.0068626264,0.0156056648,-0.0047564977,0.0058368128,-0.0134698497,-0.0192121863,-0.0518992655,0.0202824324,-0.0228984095,0.0175004285,-0.0148326531,0.0464382432,0.0162761267,-0.0550894849,0.0416142456,-0.0203559343,-0.0564685166,-0.0497452691,0.0488792434,-0.0529739857,0.0165427998,-0.0040434571,-0.0239641014,-0.0401141793,-0.0093588,-0.0076111406,-0.0209018532,-0.0304695442,0.012149266,-0.0224280618,-0.0575097203,0.0030649926,0.0542608351,0.063458629,-0.0203057304,-0.0223742295,-0.0469840579,0.0389758684,0.0228821561,-0.0255930033,0.0116457958,-0.0207394771,-0.0174294859,-0.0416176841,-0.0249105431,0.0049170111,0.0018254132,-0.0005943999,0.0808323324,-0.0443061888,-0.0128886718,0.0034625835,-0.0372987688,0.0694728717,-0.0190269593,-0.0114398943,-0.0546357445,0.0041410904,-0.0768008903,-0.0217781346,-0.0063404907,-0.0462312177,-0.0116032036,-0.0262126047,-0.0356838144,-0.0498855039,-0.0278356429,-0.0501345508,-0.030967528,-0.0169523545,0.0564929321,-0.0631359816,0.0660796165,-0.0010839396,0.0305393804,0.018637225,0.0115259336,-0.0016013286,0.047886122,0.0768796653,0.0527475849,-0.0166680478,0.0540467203,0.0660194606,-0.0330760963,-0.0484847538,-0.0201057196,0.0095496215,0.0271033384,0.0075876368,-0.0421809629,-0.0123436945,0.0136789633,-0.0245770179,0.0110089174,0.0243550707,0.0038726076,0.0056506097,0.0139844017,0.0494284779,0.0524493083,-0.0191866271,-0.0040767142,-0.0068449136,0.013917964,-0.0166046713,0.0262820292,-0.0029220914,-0.0436511599,0.0060430989,-0.0223982502,-0.0337703004,-0.0457904227,-0.0627126023,-0.032263197,-0.0243102703,0.015645219,0.0104104159,-0.0000551907,0.0239386614,0.0217881259,0.0284369402,0.0188426264,-0.0074852584,0.0054632463,-0.0257893726,-0.0481676757,0.0078678932,0.0072047068,-0.0243400112,-0.0142595768,0.0038470349,-0.0364669003,0.0088244565,-0.0107159624,-0.0066085942,-0.0490142368,-0.0055779424,-0.0438550338,-0.0281263292,-0.0208879467,-0.0574861541,0.0113290744,-0.0462575853,-0.0123126507,-0.0419647917,0.0091742845,-0.0492481366,-0.0201307423,-0.0042057983,-0.0166349988,0.0850711316,-0.0280150697,0.0034116805,-0.0345718078,0.0675299764,0.0124127707,0.0080710351,0.0168384388,-0.0140363388,0.0358472094,-0.0774406716,0.0002168748,0.0829083249,0.0280389339,-0.0539539419,0.0183462948,0.0076118479,0.0061959983,0.0119208423,-0.0025895585,0.0607857294,0.0017896636,0.0263379607,-0.0140108494,0.0152072934,0.0093529047,-0.0337876379,0.0067194439,-0.0166965984,0.0579216518,0.0835127383,-0.0009558973,0.0000352168,-0.0098165972,-0.0160164945,-0.0307202265,0.0009322998,-0.0282493848,-0.0105475327,-0.0348106213,0.0222762898,-0.030878948,-0.0627373457,0.0207798015,0.0348622538,0.0477434173,0.0051726876,-0.0235405695,-0.0216712244,-0.0385158397,-0.1019881442,-0.0700479075,-0.0140203536,0.0487889461,0.0347866639,0.0012542098,0.0484128632,0.0111636482,0.006804748,0.0198769793,-0.0555347614,0.1112239808,-0.0543919839,0.0559661798,-0.0117391003,-0.0308067016,0.0285727102,0.0192836951]}\n",
      "{\"id\":73836152,\"embedding\":[0.0348585583,0.0093203206,-0.0304631535,0.000549935,0.0876631141,0.0253937636,-0.0028857901,0.0068684211,-0.0450545214,0.0138210002,-0.0390310585,0.104600884,0.0303657129,-0.0042512636,-0.0134801045,-0.0518808439,0.0437791497,-0.0144484174,-0.071636796,0.0265200529,-0.0064860093,-0.0049216291,-0.0621243939,-0.0039925193,0.0164213013,-0.0978950486,0.0633194,0.0237668138,0.0549601428,-0.0272223223,0.0151988212,-0.029184876,0.0138754332,0.0177821629,0.0313063487,0.0630700588,-0.0215577148,0.0842030644,-0.0126085915,-0.0228859466,-0.0823771656,-0.0089174043,0.0109772803,0.0297802333,0.0334060565,0.0071178605,-0.0419606641,0.0583447702,-0.0182890538,0.0407290384,0.0801624805,0.0090547912,-0.0010549773,0.0038063338,0.0406266935,0.0086647682,-0.0050162012,-0.0113612413,0.0884376615,-0.0086189881,0.0396306738,0.0002986264,0.026716562,0.0153451217,-0.0064992141,0.0057932795,-0.0636483952,0.0442114919,-0.0679232851,0.0038523395,-0.0291783866,0.0115790144,0.006382823,-0.0315355621,0.036204312,-0.0162868574,0.0410430543,-0.0401402414,-0.0096882684,0.0525034033,0.0293219797,0.0712351725,-0.006953171,-0.0232982188,0.0111621004,-0.009319149,-0.0085867429,-0.0548224673,-0.0465099066,-0.0163986292,0.0549367778,0.0323725827,-0.0128650507,-0.0010684391,0.0151170529,-0.032135237,-0.1258407086,-0.0597845279,0.0300494619,-0.0253905524,-0.0312234797,-0.0026322287,-0.0397557877,-0.0553269349,-0.0183721986,-0.0614457168,-0.0391666964,-0.0322922431,-0.0593782589,0.0243960973,-0.0125777042,0.0454492681,0.0653911754,0.1000100523,0.0435059927,-0.0433048047,0.0131474007,-0.0234344322,-0.020393284,0.0366260968,0.0108225858,0.0191687625,0.0290771648,0.0435102694,0.0063274335,-0.005873363,0.0125085684,-0.036338415,-0.0240500458,0.0039174673,0.0167555101,0.0039280644,-0.0029532739,0.0415999293,0.0199705847,-0.0448097773,0.0174210202,-0.0074706986,0.0703583583,0.0340140015,-0.0317685232,-0.0193097033,-0.0707986504,0.0041891104,-0.0231453534,-0.0145011852,0.0023366874,0.0661069751,0.0290866476,0.0145538598,-0.0636876822,0.0075897281,0.0169282667,-0.0220292229,0.0274103414,-0.0641125515,0.025497552,-0.0392974839,0.0526787192,0.0166001823,-0.0226867516,-0.0703082979,0.0484367125,0.0535814762,0.002239468,0.037054237,-0.0163635518,0.009595437,0.020888526,-0.0027897316,-0.0114184804,-0.0539464727,-0.0384214893,-0.0317929313,-0.045086287,0.0176868439,0.0675738752,0.0058174054,0.0189703051,-0.0236131102,0.0332787931,0.0061181593,-0.0239745341,0.0134198219,0.0142726498,0.0103913452,-0.0215360392,0.0020890692,0.0136348419,0.0735274926,0.0077413912,0.0084733209,-0.014269731,0.0456693806,-0.0415002555,-0.0209956225,0.0424514934,-0.0353769809,0.025524294,-0.0012935257,0.0033417733,0.0547782928,-0.0414985158,0.0052911662,-0.0337091535,-0.009338663,-0.0063100257,-0.0163026564,-0.0304113757,-0.0073422655,-0.0561365448,0.052773945,-0.0040658433,-0.0183677543,-0.0480569936,-0.0318809003,0.089574188,0.016804751,0.0540631823,-0.0778097063,-0.0307995807,-0.0185087994,-0.008493891,0.0205280688,-0.0149811218,0.0789940134,-0.0337134935,0.0206891596,-0.0114555964,-0.0165487304,0.0295982324,-0.0148281911,-0.040129561,0.0263819117,-0.0203995705,0.0493486077,-0.0093096998,-0.0582952388,-0.0318547748,0.0074295802,-0.0430760756,0.0688060969,0.011641725,0.020604644,-0.013166137,-0.0280759521,-0.0290610362,-0.0042542089,0.0418255106,-0.0346793532,0.0684211925,0.0544359423,0.0048334734,-0.0435012504,0.017556835,0.0121816294,0.0339957066,0.0140487971,-0.017928347,-0.005211574,0.0044172197,0.048151195,-0.029547086,-0.0140526053,-0.0047886283,-0.0439215377,0.0064794021,-0.011931899,-0.0030839334,-0.0044584991,-0.004708061,0.0428146496,-0.0385248885,-0.0302383583,-0.0442542993,0.0118163032,0.0405752622,0.0529769287,0.0156916659,-0.0325834043,-0.0468491279,-0.0299701579,-0.0146285053,-0.0733273104,0.06678956,-0.0700621456,-0.0125681059,0.0048764986,0.036235854,0.0056833681,0.0667355806,0.0449207388,-0.0384722613,0.0193575006,-0.0020879009,0.0114729926,0.00024963,-0.0002354594,0.0286709238,-0.012291437,0.0277978741,0.0961618349,0.0475437529,0.0448093638,0.0371977165,0.0612968989,0.0907500461,-0.0233164523,-0.0428556874,0.0103517473,0.001753907,-0.015550225,-0.0782771781,-0.0157481823,-0.0229421332,-0.010803327,-0.1484845877,0.0067847124,-0.0223024841,-0.0319378749,0.0434721671,0.0250532143,-0.0386321247,0.0148501899,-0.0690980628,0.0390075929,-0.0012459923,0.001641408,0.0325509012,0.0192031767,0.0515290722,0.0255356003,0.0212777909,-0.0008859362,0.0037323993,0.0577393435,-0.066603668,-0.0036742985,0.1024303138,-0.0005523417,0.0275944639,-0.0212073624,0.0275990944,-0.0333201289,-0.0325586982,-0.0230905619,-0.0173123777,-0.0200741719,-0.0272881705,0.0167597309,0.0242924839,0.0056145056,0.021570731,0.0092086783,-0.0196385272,-0.0025097346,0.0068091205,-0.0229995754,0.1035198569,-0.0155150769,0.0262532048,0.0031327321,-0.0025522793,0.0134248519,0.0294191334,-0.022019295,0.0473188199,0.0085602095,0.0015387088,-0.0665570945,-0.0482924767,-0.026687704,-0.0052733137,0.0186100099,0.0071213921,-0.0408098139,-0.0619720444,0.0146127725,0.0301943216,-0.0598147362,0.000779563,-0.0285786204,-0.0057954732,0.0280297883,0.0428793244,0.0427022614,0.0135269472,0.0037331297,-0.0118099898,0.0517723821,-0.0350767858,0.0595691428,-0.0002773768,-0.0536900461,-0.0553503782,0.0165870767,-0.005453309,0.0677774996,0.0556135885,0.0525228493,0.0159750823,-0.0125790378,0.0370840877,0.0035275859,-0.0322968103,0.0171202607,0.0603441857,-0.0235362276,0.0438024849,0.0220750365,0.0491044149,-0.0348215066,-0.0317812003,-0.0099541266,0.0027075149,-0.0353206322,0.0523134395,0.027029939,0.0180018283,0.020770533,0.0059233364,-0.0342702009,0.0225767381,0.0258719623,0.0504589528,-0.0537853278,0.0227495115,-0.0117942691,0.0012868362,-0.0528526865,-0.0075816936,0.0189990029,-0.0821051896,0.0005937143,-0.00899,0.016137762,0.017927587,-0.0095200539,0.0399369411,0.0227777772,0.0046369224,-0.0006924027,0.1225211844,0.0138730751,0.0166616254,0.0466296189,0.053435564,0.0283328593,-0.004633463,-0.0029174753,-0.0043632248,0.0050996393,0.034546636,-0.0295187756,-0.049184747,-0.0321266316,-0.0117370868,0.0351144001,0.0271480922,-0.0208984278,-0.0148875797,0.0094572464,0.0215647016,-0.014609457,-0.0069733118,-0.0101446277,0.0263076127,-0.0131831206,-0.0220387653,-0.0156030059,0.0358366556,0.0036093181,-0.0454108901,-0.0547562316,0.0397713669,-0.0529645309,-0.0253342129,0.0070955339,-0.000759522,-0.0269628316,0.0086747706,0.0348830335,0.0312326252,0.0121704778,-0.0217114426,0.007699878,-0.0527608171,-0.0286111813,-0.0393947177,-0.0277800653,0.0213199686,-0.0157077443,0.0151617797,0.0030086015,-0.0481838621,-0.0383687541,0.0229054447,-0.0495381169,0.0037754041,0.0328470469,0.0048478767,0.0452340171,-0.0478256308,-0.0786023065,-0.0119784605,0.0169309657,0.0088385716,0.0265819449,0.0391240045,0.0371918418,0.0371240452,-0.0213587638,-0.0484870747,0.0660975724,-0.011276925,0.0099689765,-0.0122919576,-0.0226643607,0.0151170054,-0.0124232937,-0.0643163249,-0.0330406837,0.0012035093,-0.080848664,0.0156197362,-0.0400853083,-0.0144711081,0.0492297821,0.0387564935,0.0237481631,-0.0606154352,0.0540436208,-0.0010437405,0.0249085482,0.0174811725,0.0231861435,0.0254301187,0.0052444418,-0.0209140126,0.0223253686,0.0092566591,0.0275232196,0.0494472533,0.0595174544,0.0090504959,-0.033340089,0.0100606903,-0.0034036045,-0.0107335486,0.0503725894,0.0281391088,-0.0282251332,0.0457370318,0.0399555452,0.0389584042,-0.0112661887,0.0259779803,0.0532303192,0.0215794612,-0.0326042958,0.0211654697,-0.0067009064,-0.011470261,0.0379542112,0.0450850129,0.0138247553,0.0195049476,0.0579616018,0.0038415978,0.0547729842,-0.011097597,-0.011636286,0.0197187662,0.0314810313,-0.0030844752,0.0397070758,0.0037749072,-0.0182874184,0.0067592291,0.0102435071,0.0269378629,0.031816829,0.0927094892,0.0274183005,-0.0332105607,0.03127487,-0.0010129557,-0.0332077667,-0.0037821985,0.035549622,0.034586031,-0.046477668,0.0490988567,-0.0629810393,0.0063859602,-0.0366387628,-0.0652821139,0.0020135632,0.0263366681,-0.0061478238,0.0395718478,-0.0032472212,0.1069145128,-0.0165956113,0.0015284522,-0.0136441812,0.006535728,-0.0718581602,-0.0198190883,-0.0363573469,0.0049346243,0.0409072302,-0.0133036403,-0.0039381483,0.0067269802,0.0209884197,0.0080401711,-0.0078414725,-0.0095779821,0.0140420543,0.009601485,-0.0111559266,-0.0084775044,0.047407981,-0.0131742405,-0.0001451452,0.0114982026,0.0093272869,0.0363868698,0.0225522798,-0.0160189997,0.0236348398,-0.0233347807,-0.0123018445,0.0125157889,-0.0733282119,-0.0239314325,0.0106115313,-0.0191735644,0.0239860322,-0.0098224096,-0.0102215875,0.0175787415,0.0148898037,-0.0352989286,0.0712997168,-0.0284498464,-0.046070125,0.0208334122,0.0206692331,-0.0066153039,0.0389851034,-0.0764563084,0.0415989012,-0.0402571708,-0.044449959,-0.0196664836,0.0031668525,0.035464,-0.0135966307,-0.0157647673,-0.0039477437,-0.0848230571,0.0325681344,0.0152092008,0.0430212021,0.0047549717,-0.025670696,0.0861353502,-0.0139773637,-0.0013377153,0.0223401599,0.0300563648,0.0274697747,0.0070413463,-0.0024067804,-0.0273700524,0.052061595,-0.0158089213,-0.0150218243,-0.0017617916,-0.0350875258,0.0514084734,0.0498772711,0.0073217019,-0.0048392424,0.0222734734,-0.0202541407,-0.0123188403,-0.0285990424,0.0219436511,-0.0316361822,-0.1329386085,-0.0268896688,-0.0139776673,0.0119054765,-0.0226220116,-0.0063100788,-0.0425239615,0.0137862051,0.000974828,0.0086988248,0.0007871669,-0.0126093347,0.0327631757,0.0168671757,-0.0290279128,0.0662924647,0.018240558,0.0258311108,0.0079505462,-0.018195508,0.0295213535,0.011873167,-0.0250453576,-0.0000090529,-0.0193554908,0.0010102992,0.061228998,0.0504875593,0.0002069885,0.0084878383,0.0696763471,-0.0061800336,0.0245213062,0.059005145,-0.0301885903,-0.0045255092,-0.042240791,0.0763665214,-0.043837551,-0.0204406232,-0.024273131,0.0159168541,0.0372760817,0.0107128602,-0.0081185941,0.0258153602,-0.0204210617,0.000161332,0.033283677,0.0575429983,-0.0938968956,-0.000588603,-0.027599141,0.0180135295,0.0006773557,0.0130988052,0.0222563557,0.0046000155,-0.0172863733,-0.0331512317,-0.068812944,0.0279070716,0.0223982949,-0.0558495559,0.0229135081,-0.0015160193,0.0199849252,0.0457366817,-0.0299621094,0.0043537733,-0.0207373574,-0.0153549341,0.0033901576,0.011490263,0.0065021999,-0.0028714491]}\n"
     ]
    }
   ],
   "source": [
    "# save id and embedding as a json file\n",
    "jsonl_string = df[[\"id\", \"embedding\"]].to_json(orient=\"records\", lines=True)\n",
    "with open(\"questions.json\", \"w\") as f:\n",
    "    f.write(jsonl_string)\n",
    "\n",
    "# show the first few lines of the json file\n",
    "! head -n 3 questions.json"
   ]
  },
  {
   "cell_type": "markdown",
   "metadata": {
    "id": "-WTNJ3FAQl_W"
   },
   "source": [
    "Then, create a new Cloud Storage bucket and copy the file to it."
   ]
  },
  {
   "cell_type": "code",
   "execution_count": 13,
   "metadata": {
    "id": "CzwDWJfzAk3n",
    "tags": []
   },
   "outputs": [
    {
     "name": "stdout",
     "output_type": "stream",
     "text": [
      "Creating gs://qwiklabs-gcp-04-a79fdebf5ede-embvs-tutorial-03090146/...\n",
      "Copying file://questions.json [Content-Type=application/json]...\n",
      "/ [1 files][  9.8 MiB/  9.8 MiB]                                                \n",
      "Operation completed over 1 objects/9.8 MiB.                                      \n"
     ]
    }
   ],
   "source": [
    "BUCKET_URI = f\"gs://{PROJECT_ID}-embvs-tutorial-{UID}\"\n",
    "! gsutil mb -l $LOCATION -p {PROJECT_ID} {BUCKET_URI}\n",
    "! gsutil cp questions.json {BUCKET_URI}"
   ]
  },
  {
   "cell_type": "markdown",
   "metadata": {
    "id": "xxdbjKw1XDxl"
   },
   "source": [
    "### Create an Index\n",
    "\n",
    "Now it's ready to load the embeddings to Vector Search. Its APIs are available under the [aiplatform](https://cloud.google.com/python/docs/reference/aiplatform/latest/google.cloud.aiplatform) package of the SDK."
   ]
  },
  {
   "cell_type": "code",
   "execution_count": 14,
   "metadata": {
    "id": "8unyr9KagAoI",
    "tags": []
   },
   "outputs": [],
   "source": [
    "# init the aiplatform package\n",
    "from google.cloud import aiplatform\n",
    "\n",
    "aiplatform.init(project=PROJECT_ID, location=LOCATION)"
   ]
  },
  {
   "cell_type": "markdown",
   "metadata": {
    "id": "xpMUXqWQ75uu"
   },
   "source": [
    "Create an [MatchingEngineIndex](https://cloud.google.com/python/docs/reference/aiplatform/latest/google.cloud.aiplatform.MatchingEngineIndex) with its `create_tree_ah_index` function (Matching Engine is the previous name of Vector Search)."
   ]
  },
  {
   "cell_type": "code",
   "execution_count": 15,
   "metadata": {
    "id": "kKDw5VXMkXb3",
    "tags": []
   },
   "outputs": [
    {
     "name": "stdout",
     "output_type": "stream",
     "text": [
      "Creating MatchingEngineIndex\n",
      "Create MatchingEngineIndex backing LRO: projects/1012905914094/locations/us-central1/indexes/8826769396622950400/operations/1903476832108281856\n",
      "MatchingEngineIndex created. Resource name: projects/1012905914094/locations/us-central1/indexes/8826769396622950400\n",
      "To use this MatchingEngineIndex in another session:\n",
      "index = aiplatform.MatchingEngineIndex('projects/1012905914094/locations/us-central1/indexes/8826769396622950400')\n"
     ]
    }
   ],
   "source": [
    "# create index\n",
    "my_index = aiplatform.MatchingEngineIndex.create_tree_ah_index(\n",
    "    display_name=f\"embvs-tutorial-index-{UID}\",\n",
    "    contents_delta_uri=BUCKET_URI,\n",
    "    dimensions=768,\n",
    "    approximate_neighbors_count=20,\n",
    "    distance_measure_type=\"DOT_PRODUCT_DISTANCE\",\n",
    ")"
   ]
  },
  {
   "cell_type": "markdown",
   "metadata": {
    "id": "2rFam_w9U0dI"
   },
   "source": [
    "By calling the `create_tree_ah_index` function, it starts building an Index. This will take under a few minutes if the dataset is small, otherwise about 50 minutes or more depending on the size of the dataset. You can check status of the index creation on [the Vector Search Console > INDEXES tab](https://console.cloud.google.com/vertex-ai/matching-engine/indexes).\n",
    "\n",
    "![](https://storage.googleapis.com/github-repo/img/embeddings/vs-quickstart/creating-index.png)\n",
    "\n",
    "#### The parameters for creating index\n",
    "\n",
    "- `contents_delta_uri`: The URI of Cloud Storage directory where you stored the embedding JSON files\n",
    "- `dimensions`: Dimension size of each embedding. In this case, it is 768 as we are using the embeddings from the Text Embeddings API.\n",
    "- `approximate_neighbors_count`: how many similar items we want to retrieve in typical cases\n",
    "- `distance_measure_type`: what metrics to measure distance/similarity between embeddings. In this case it's `DOT_PRODUCT_DISTANCE`\n",
    "\n",
    "See [the document](https://cloud.google.com/vertex-ai/docs/vector-search/create-manage-index) for more details on creating Index and the parameters.\n",
    "\n",
    "#### Batch Update or Streaming Update?\n",
    "There are two types of index: Index for *Batch Update* (used in this tutorial) and Index for *Streaming Updates*. The Batch Update index can be updated with a batch process whereas the Streaming Update index can be updated in real-time. The latter one is more suited for use cases where you want to add or update each embeddings in the index more often, and crucial to serve with the latest embeddings, such as e-commerce product search.\n"
   ]
  },
  {
   "cell_type": "markdown",
   "metadata": {
    "id": "VLOAMF50XMI8"
   },
   "source": [
    "### Create Index Endpoint and deploy the Index\n",
    "\n",
    "To use the Index, you need to create an [Index Endpoint](https://cloud.google.com/vertex-ai/docs/vector-search/deploy-index-public). It works as a server instance accepting query requests for your Index."
   ]
  },
  {
   "cell_type": "code",
   "execution_count": 16,
   "metadata": {
    "id": "h6IzyufWCjU1",
    "tags": []
   },
   "outputs": [
    {
     "name": "stdout",
     "output_type": "stream",
     "text": [
      "Creating MatchingEngineIndexEndpoint\n",
      "Create MatchingEngineIndexEndpoint backing LRO: projects/1012905914094/locations/us-central1/indexEndpoints/4405008618731077632/operations/2268268401925292032\n",
      "MatchingEngineIndexEndpoint created. Resource name: projects/1012905914094/locations/us-central1/indexEndpoints/4405008618731077632\n",
      "To use this MatchingEngineIndexEndpoint in another session:\n",
      "index_endpoint = aiplatform.MatchingEngineIndexEndpoint('projects/1012905914094/locations/us-central1/indexEndpoints/4405008618731077632')\n"
     ]
    }
   ],
   "source": [
    "# create IndexEndpoint\n",
    "my_index_endpoint = aiplatform.MatchingEngineIndexEndpoint.create(\n",
    "    display_name=f\"embvs-tutorial-index-endpoint-{UID}\",\n",
    "    public_endpoint_enabled=True,\n",
    ")"
   ]
  },
  {
   "cell_type": "markdown",
   "metadata": {
    "id": "11e3e1a3a9e9"
   },
   "source": [
    "This tutorial utilizes a [Public Endpoint](https://cloud.google.com/vertex-ai/docs/vector-search/setup/setup#choose-endpoint) and does not support [Virtual Private Cloud (VPC)](https://cloud.google.com/vpc/docs/private-services-access). Unless you have a specific requirement for VPC, we recommend using a Public Endpoint. Despite the term \"public\" in its name, it does not imply open access to the public internet. Rather, it functions like other endpoints in Vertex AI services, which are secured by default through IAM. Without explicit IAM permissions, as we have previously established, no one can access the endpoint."
   ]
  },
  {
   "cell_type": "markdown",
   "metadata": {
    "id": "8n33iO1T5hFO"
   },
   "source": [
    "With the Index Endpoint, deploy the Index by specifying an unique deployed index ID."
   ]
  },
  {
   "cell_type": "code",
   "execution_count": 17,
   "metadata": {
    "id": "FcBHLifGwAWq",
    "tags": []
   },
   "outputs": [],
   "source": [
    "DEPLOYED_INDEX_ID = f\"embvs_tutorial_deployed_{UID}\""
   ]
  },
  {
   "cell_type": "code",
   "execution_count": 18,
   "metadata": {
    "id": "1jUoGhY5TPFP",
    "tags": []
   },
   "outputs": [
    {
     "name": "stdout",
     "output_type": "stream",
     "text": [
      "Deploying index MatchingEngineIndexEndpoint index_endpoint: projects/1012905914094/locations/us-central1/indexEndpoints/4405008618731077632\n",
      "Deploy index MatchingEngineIndexEndpoint index_endpoint backing LRO: projects/1012905914094/locations/us-central1/indexEndpoints/4405008618731077632/operations/3568682794328522752\n",
      "MatchingEngineIndexEndpoint index_endpoint Deployed index. Resource name: projects/1012905914094/locations/us-central1/indexEndpoints/4405008618731077632\n"
     ]
    },
    {
     "data": {
      "text/plain": [
       "<google.cloud.aiplatform.matching_engine.matching_engine_index_endpoint.MatchingEngineIndexEndpoint object at 0x7face02255a0> \n",
       "resource name: projects/1012905914094/locations/us-central1/indexEndpoints/4405008618731077632"
      ]
     },
     "execution_count": 18,
     "metadata": {},
     "output_type": "execute_result"
    }
   ],
   "source": [
    "# deploy the Index to the Index Endpoint\n",
    "my_index_endpoint.deploy_index(index=my_index, deployed_index_id=DEPLOYED_INDEX_ID)"
   ]
  },
  {
   "cell_type": "markdown",
   "metadata": {
    "id": "xu9ZmWcpXQ55"
   },
   "source": [
    "If it is the first time to deploy an Index to an Index Endpoint, it will take around 25 minutes to automatically build and initiate the backend for it. After the first deployment, it will finish in seconds. To see the status of the index deployment, open [the Vector Search Console > INDEX ENDPOINTS tab](https://console.cloud.google.com/vertex-ai/matching-engine/index-endpoints) and click the Index Endpoint.\n",
    "\n",
    "<img src=\"https://storage.googleapis.com/github-repo/img/embeddings/vs-quickstart/deploying-index.png\" width=\"70%\">"
   ]
  },
  {
   "cell_type": "markdown",
   "metadata": {
    "id": "oTi4PjjbXV-O"
   },
   "source": [
    "### Run Query\n",
    "\n",
    "Finally it's ready to use Vector Search. In the following code, it creates an embedding for a test question, and find similar question with the Vector Search."
   ]
  },
  {
   "cell_type": "code",
   "execution_count": 19,
   "metadata": {
    "id": "FhNuRQqUWdfe",
    "tags": []
   },
   "outputs": [
    {
     "name": "stderr",
     "output_type": "stream",
     "text": [
      "100%|██████████| 1/1 [00:01<00:00,  1.12s/it]\n"
     ]
    }
   ],
   "source": [
    "test_embeddings = get_embeddings_wrapper([\"How to read JSON with Python?\"])"
   ]
  },
  {
   "cell_type": "code",
   "execution_count": 20,
   "metadata": {
    "id": "Q01DGMBPXAg-",
    "tags": []
   },
   "outputs": [
    {
     "name": "stdout",
     "output_type": "stream",
     "text": [
      "0.7432 Open json file from outside of python directory\n",
      "0.7355 How do get information from .json file\n",
      "0.7252 Print items from list within a json object using Python using for each loop\n",
      "0.7115 Export JSON from dataframe in Pandas\n",
      "0.6808 Python Json to dataframe is not importing all columns\n",
      "0.6688 Pandas from json dictionary column to a new seperate column\n",
      "0.6614 Python pandas normalize this Json into pandas\n",
      "0.6480 python json.JSONEncoder encoder do not match str values but other objects\n",
      "0.6381 How to iterate and parse JSON Array dynamically using shell script\n",
      "0.6250 How do I get Ansible's json_query to return a value from this JSON document\n",
      "0.5821 Construct dictionary from some elements in list in Python\n",
      "0.5791 Sum aggregation over list items in Django JSONField\n",
      "0.5658 async function in Python, basic example\n",
      "0.5580 Python-Requests How do I capture a specific section of html code from response?\n",
      "0.5485 How to connect to Cassandra Database using Python code\n",
      "0.5476 Call a member function of a class inside JSON object in a shorter way\n",
      "0.5476 parse nordpool nested JSON data to php string using decoded_json\n",
      "0.5446 Java Class parsed to JSON does not output correct Json Object\n",
      "0.5342 Send List of Strings from Python to C# Using TCP/socket\n",
      "0.5271 How to get mongodb record and apply filter on nested json field?\n"
     ]
    }
   ],
   "source": [
    "# Test query\n",
    "response = my_index_endpoint.find_neighbors(\n",
    "    deployed_index_id=DEPLOYED_INDEX_ID,\n",
    "    queries=test_embeddings,\n",
    "    num_neighbors=20,\n",
    ")\n",
    "\n",
    "# show the result\n",
    "import numpy as np\n",
    "\n",
    "for idx, neighbor in enumerate(response[0]):\n",
    "    id = np.int64(neighbor.id)\n",
    "    similar = df.query(\"id == @id\", engine=\"python\")\n",
    "    print(f\"{neighbor.distance:.4f} {similar.title.values[0]}\")"
   ]
  },
  {
   "cell_type": "markdown",
   "metadata": {
    "id": "tPDOL9caoYZ9"
   },
   "source": [
    "The `find_neighbors` function only takes milliseconds to fetch the similar items even when you have billions of items on the Index, thanks to the ScaNN algorithm. Vector Search also supports [autoscaling](https://cloud.google.com/vertex-ai/docs/vector-search/deploy-index-public#autoscaling) which can automatically resize the number of nodes based on the demands of your workloads."
   ]
  },
  {
   "cell_type": "markdown",
   "metadata": {
    "id": "DDt4D6FDyc66"
   },
   "source": [
    "# IMPORTANT: Cleaning Up\n",
    "\n",
    "In case you are using your own Cloud project, not a temporary project on Qwiklab, please make sure to delete all the Indexes, Index Endpoints and Cloud Storage buckets after finishing this tutorial. Otherwise the remaining objects would **incur unexpected costs**.\n",
    "\n",
    "If you used Workbench, you may also need to delete the Notebooks from [the console](https://console.cloud.google.com/vertex-ai/workbench)."
   ]
  },
  {
   "cell_type": "code",
   "execution_count": 21,
   "metadata": {
    "id": "MEsKVzguyxNx",
    "tags": []
   },
   "outputs": [
    {
     "name": "stdout",
     "output_type": "stream",
     "text": [
      "Press Enter to delete Index Endpoint, Index and Cloud Storage bucket: \n"
     ]
    },
    {
     "name": "stdout",
     "output_type": "stream",
     "text": [
      "Undeploying MatchingEngineIndexEndpoint index_endpoint: projects/1012905914094/locations/us-central1/indexEndpoints/4405008618731077632\n",
      "Undeploy MatchingEngineIndexEndpoint index_endpoint backing LRO: projects/1012905914094/locations/us-central1/indexEndpoints/4405008618731077632/operations/3944733363213959168\n",
      "MatchingEngineIndexEndpoint index_endpoint undeployed. Resource name: projects/1012905914094/locations/us-central1/indexEndpoints/4405008618731077632\n",
      "Deleting MatchingEngineIndexEndpoint : projects/1012905914094/locations/us-central1/indexEndpoints/4405008618731077632\n",
      "MatchingEngineIndexEndpoint deleted. . Resource name: projects/1012905914094/locations/us-central1/indexEndpoints/4405008618731077632\n",
      "Deleting MatchingEngineIndexEndpoint resource: projects/1012905914094/locations/us-central1/indexEndpoints/4405008618731077632\n",
      "Delete MatchingEngineIndexEndpoint backing LRO: projects/1012905914094/locations/us-central1/indexEndpoints/4405008618731077632/operations/2881883851154522112\n",
      "MatchingEngineIndexEndpoint resource projects/1012905914094/locations/us-central1/indexEndpoints/4405008618731077632 deleted.\n",
      "Deleting MatchingEngineIndex : projects/1012905914094/locations/us-central1/indexes/8826769396622950400\n",
      "MatchingEngineIndex deleted. . Resource name: projects/1012905914094/locations/us-central1/indexes/8826769396622950400\n",
      "Deleting MatchingEngineIndex resource: projects/1012905914094/locations/us-central1/indexes/8826769396622950400\n",
      "Delete MatchingEngineIndex backing LRO: projects/1012905914094/locations/us-central1/indexes/8826769396622950400/operations/2521595880964882432\n",
      "MatchingEngineIndex resource projects/1012905914094/locations/us-central1/indexes/8826769396622950400 deleted.\n",
      "Removing gs://qwiklabs-gcp-04-a79fdebf5ede-embvs-tutorial-03090146/questions.json#1741485044313557...\n",
      "/ [1 objects]                                                                   \n",
      "Operation completed over 1 objects.                                              \n",
      "Removing gs://qwiklabs-gcp-04-a79fdebf5ede-embvs-tutorial-03090146/...\n"
     ]
    }
   ],
   "source": [
    "# wait for a confirmation\n",
    "input(\"Press Enter to delete Index Endpoint, Index and Cloud Storage bucket:\")\n",
    "\n",
    "# delete Index Endpoint\n",
    "my_index_endpoint.undeploy_all()\n",
    "my_index_endpoint.delete(force=True)\n",
    "\n",
    "# delete Index\n",
    "my_index.delete()\n",
    "\n",
    "# delete Cloud Storage bucket\n",
    "! gsutil rm -r {BUCKET_URI}"
   ]
  },
  {
   "cell_type": "markdown",
   "metadata": {
    "id": "b8k26QOF3Ys7"
   },
   "source": [
    "# Summary\n",
    "\n",
    "## Grounding LLM outputs with Vertex AI Vector Search\n",
    "\n",
    "As we have seen, by combining the Embeddings API and Vector Search, you can use the embeddings to \"ground\" LLM outputs to real business data with low latency.\n",
    "\n",
    "For example, if an user asks a question, Embeddings API can convert it to an embedding, and issue a query on Vector Search to find similar embeddings in its index. Those embeddings represent the actual business data in the databases. As we are just retrieving the business data and not generating any artificial texts, there is no risk of having hallucinations in the result.\n",
    "\n",
    "![](https://storage.googleapis.com/gweb-cloudblog-publish/original_images/10._grounding.png)\n",
    "\n",
    "### The difference between the questions and answers\n",
    "\n",
    "In this tutorial, we have used the Stack Overflow dataset. There is a reason why we had to use it; As the dataset has many pairs of **questions and answers**, so you can just find questions similar to your question to find answers to it.\n",
    "\n",
    "In many business use cases, the semantics (meaning) of questions and answers are different. Also, there could be cases where you would want to add variety of recommended or personalized items to the results, like product search on e-commerce sites.\n",
    "\n",
    "In these cases, the simple semantics search don't work well. It's more like a recommendation system problem where you may want to train a model (e.g. Two-Tower model) to learn the relationship between the question embedding space and answer embedding space. Also, many production systems adds reranking phase after the semantic search to achieve higher search quality. Please see [Scaling deep retrieval with TensorFlow Recommenders and Vertex AI Matching Engine](https://cloud.google.com/blog/products/ai-machine-learning/scaling-deep-retrieval-tensorflow-two-towers-architecture) to learn more.\n",
    "\n",
    "### Hybrid of semantic + keyword search\n",
    "\n",
    "Another typical challenge you will face in production system is to support keyword search combined with the semantic search. For example, for e-commerce product search, you may want to let users find product by entering its product name or model number. As LLM doesn't memorize those product names or model numbers, semantic search can't handle those \"usual\" search functionalities.\n",
    "\n",
    "[Vertex AI Search](https://cloud.google.com/blog/products/ai-machine-learning/vertex-ai-search-and-conversation-is-now-generally-available) is another product you may consider for those requirements. While Vector Search provides a simple semantic search capability only, Search provides a integrated search solution that combines semantic search, keyword search, reranking and filtering, available as an out-of-the-box tool.\n",
    "\n",
    "### What about Retrieval Augmented Generation (RAG)?\n",
    "\n",
    "In this tutorial, we have looked at the simple combination of LLM embeddings and vector search. From this starting point, you may also extend the design to [Retrieval Augmented Generation (RAG)](https://www.google.com/search?q=Retrieval+Augmented+Generation+(RAG)&oq=Retrieval+Augmented+Generation+(RAG)).\n",
    "\n",
    "RAG is a popular architecture pattern of implementing grounding with LLM with text chat UI. The idea is to have the LLM text chat UI as a frontend for the document retrieval with vector search and summarization of the result.\n",
    "\n",
    "![](https://storage.googleapis.com/gweb-cloudblog-publish/images/Figure-7-Ask_Your_Documents_Flow.max-529x434.png)\n",
    "\n",
    "There are some pros and cons between the two solutions.\n",
    "\n",
    "| | Embeddings + vector search | RAG |\n",
    "|---|---|---|\n",
    "| Design | simple | complex |\n",
    "| UI | Text search UI | Text chat UI |\n",
    "| Summarization of result | No | Yes |\n",
    "| Multi-turn (Context aware) | No | Yes |\n",
    "| Latency | milliseconds | seconds |\n",
    "| Cost | lower | higher |\n",
    "| Hallucinations | No risk | Some risk |\n",
    "\n",
    "The Embedding + vector search pattern we have looked at with this tutorial provides simple, fast and low cost semantic search functionality with the LLM intelligence. RAG adds context-aware text chat experience and result summarization to it. While RAG provides the more \"Gen AI-ish\" experience, it also adds a risk of hallucination and higher cost and time for the text generation.\n",
    "\n",
    "To learn more about how to build a RAG solution, you may look at [Building Generative AI applications made easy with Vertex AI PaLM API and LangChain](https://cloud.google.com/blog/products/ai-machine-learning/generative-ai-applications-with-vertex-ai-palm-2-models-and-langchain).\n",
    "\n",
    "## Resources\n",
    "\n",
    "To learn more, please check out the following resources:\n",
    "\n",
    "### Documentations\n",
    "\n",
    "[Vertex AI Embeddings for Text API documentation\n",
    "](https://cloud.google.com/vertex-ai/docs/generative-ai/embeddings/get-text-embeddings)\n",
    "\n",
    "[Vector Search documentation](https://cloud.google.com/vertex-ai/docs/matching-engine/overview)\n",
    "\n",
    "### Vector Search blog posts\n",
    "\n",
    "[Vertex Matching Engine: Blazing fast and massively scalable nearest neighbor search](https://cloud.google.com/blog/products/ai-machine-learning/vertex-matching-engine-blazing-fast-and-massively-scalable-nearest-neighbor-search)\n",
    "\n",
    "[Find anything blazingly fast with Google's vector search technology](https://cloud.google.com/blog/topics/developers-practitioners/find-anything-blazingly-fast-googles-vector-search-technology)\n",
    "\n",
    "[Enabling real-time AI with Streaming Ingestion in Vertex AI](https://cloud.google.com/blog/products/ai-machine-learning/real-time-ai-with-google-cloud-vertex-ai)\n",
    "\n",
    "[Mercari leverages Google's vector search technology to create a new marketplace](https://cloud.google.com/blog/topics/developers-practitioners/mercari-leverages-googles-vector-search-technology-create-new-marketplace)\n",
    "\n",
    "[Recommending news articles using Vertex AI Matching Engine](https://cloud.google.com/blog/products/ai-machine-learning/recommending-articles-using-vertex-ai-matching-engine)\n",
    "\n",
    "[What is Multimodal Search: \"LLMs with vision\" change businesses](https://cloud.google.com/blog/products/ai-machine-learning/multimodal-generative-ai-search)"
   ]
  },
  {
   "cell_type": "markdown",
   "metadata": {
    "id": "BE1tELsH-u8N"
   },
   "source": [
    "# Utilities\n",
    "\n",
    "Sometimes it takes tens of minutes to create or deploy Indexes and you would lose connection with the Colab runtime. In that case, instead of creating or deploying new Index again, you can check [the Vector Search Console](https://console.cloud.google.com/vertex-ai/matching-engine/index-endpoints) and get the existing ones to continue."
   ]
  },
  {
   "cell_type": "markdown",
   "metadata": {
    "id": "wF_pkdpJ-yaq"
   },
   "source": [
    "## Get an existing Index\n",
    "\n",
    "To get an Index object that already exists, replace the following `[your-index-id]` with the index ID and run the cell. You can check the ID on [the Vector Search Console > INDEXES tab](https://console.cloud.google.com/vertex-ai/matching-engine/indexes)."
   ]
  },
  {
   "cell_type": "code",
   "execution_count": 23,
   "metadata": {
    "id": "mEBkZZt_-0jG",
    "tags": []
   },
   "outputs": [],
   "source": [
    "my_index_id = \"[your-index-id]\"  # @param {type:\"string\"}\n",
    "my_index = aiplatform.MatchingEngineIndex(my_index_id)"
   ]
  },
  {
   "cell_type": "markdown",
   "metadata": {
    "id": "_vlgzkyw-3CI"
   },
   "source": [
    "## Get an existing Index Endpoint\n",
    "\n",
    "To get an Index Endpoint object that already exists, replace the following `[your-index-endpoint-id]` with the Index Endpoint ID and run the cell. You can check the ID on [the Vector Search Console > INDEX ENDPOINTS tab](https://console.cloud.google.com/vertex-ai/matching-engine/index-endpoints)."
   ]
  },
  {
   "cell_type": "code",
   "execution_count": null,
   "metadata": {
    "id": "E0OFnirF-6Rk",
    "tags": []
   },
   "outputs": [],
   "source": [
    "my_index_endpoint_id = \"[your-index-endpoint-id]\"  # @param {type:\"string\"}\n",
    "my_index_endpoint = aiplatform.MatchingEngineIndexEndpoint(my_index_endpoint_id)"
   ]
  },
  {
   "cell_type": "code",
   "execution_count": null,
   "metadata": {},
   "outputs": [],
   "source": []
  }
 ],
 "metadata": {
  "colab": {
   "name": "intro-textemb-vectorsearch.ipynb",
   "toc_visible": true
  },
  "environment": {
   "kernel": "conda-base-py",
   "name": "workbench-notebooks.m128",
   "type": "gcloud",
   "uri": "us-docker.pkg.dev/deeplearning-platform-release/gcr.io/workbench-notebooks:m128"
  },
  "kernelspec": {
   "display_name": "Python 3 (ipykernel) (Local) (Local)",
   "language": "python",
   "name": "conda-base-py"
  },
  "language_info": {
   "codemirror_mode": {
    "name": "ipython",
    "version": 3
   },
   "file_extension": ".py",
   "mimetype": "text/x-python",
   "name": "python",
   "nbconvert_exporter": "python",
   "pygments_lexer": "ipython3",
   "version": "3.10.16"
  }
 },
 "nbformat": 4,
 "nbformat_minor": 4
}
